{
  "nbformat": 4,
  "nbformat_minor": 0,
  "metadata": {
    "colab": {
      "name": "AndriNurIkhsanPurnomo_UG-01_Assigment Tugas Akhir 4_4.ipynb",
      "provenance": [],
      "collapsed_sections": []
    },
    "kernelspec": {
      "name": "python3",
      "display_name": "Python 3"
    },
    "language_info": {
      "name": "python"
    }
  },
  "cells": [
    {
      "cell_type": "markdown",
      "source": [
        "### Deskripsi Masalah\n",
        "Banyaknya daerah rawan banjir, terutama di wilayah di DKI Jakarta perlu menjadi perhatian. Khususnya \n",
        "bagi warga DKI Jakarta yang ingin tinggal di suatu daerah, dengan nyaman tanpa adanya bencana banjir. \n",
        "Berdasarkan survey Badan Penanggulangan Bencana Daerah (BPBD) DKI Jakarta tahun 2020 terdapat 82 \n",
        "kelurahan yang berpotensi banjir berdasarkan hasil analisis data historis banjir dengan kondisi fisik alam \n",
        "wilayah DKI Jakarta. Dikarenakan masalah diatas kami membuat sebuah model machine learning untuk \n",
        "mendeteksi tempat rawan banjir di daerah DKI Jakarta melalui data-data historis untuk membantu \n",
        "masyarakat DKI Jakarta dalam mengurangi resiko terkena bencana banjir.\n",
        "### Sumber Data\n",
        "Untuk pembuatan machine learning ini kami mengambil dataset Data Kejadian Bencana Banjir di \n",
        "Provinsi DKI Jakarta Tahun 2019,2020 sebagai dataset kami. Data ini kami dapatkan melalui website \n",
        "open data data.jakarta.go.id ."
      ],
      "metadata": {
        "id": "m9Gm89L-bs0m"
      }
    },
    {
      "cell_type": "markdown",
      "metadata": {
        "id": "W4ppJTRU5ZU8"
      },
      "source": [
        "Penjelasan mengenai variabel pada dataset ini :\n",
        "1. kota_administrasi : nama kota di Provinsi DKI Jakarta yang terkena dampak banjir\n",
        "2. kecamatan : nama kecamatan yang terkena dampak banjir\n",
        "3. kelurahan : nama kelurahan yang terkena dampak banjir\n",
        "4. rw : nama RW yang terkena dampak banjir\n",
        "5. jumlah_terdampak_rw : jumlah RW yang terkena dampak banjir\n",
        "6. jumlah_terdampak_rt : jumlah RT yang terkena dampak banjir\n",
        "7. jumlah_terdampak_kk : jumlah kepala keluarga yang terkena dampak banjir\n",
        "8. jumlah_terdampak_jiwa : jumlah orang yang terkena dampak banjir\n",
        "9. ketinggian_air : ketinggian air pada saat kejadian banjir (cm)\n",
        "10. tanggal_kejadian : tanggal kejadian banjir\n",
        "11. lama_genangan : lama genangan saat banjir (hari)\n",
        "12. jumlah_meninggal : jumlah korban meninggal saat kejadian banjir\n",
        "13. jumlah_hilang : jumlah korban hilang saat kejadian banjir\n",
        "14. jumlah_luka_berat : jumlah korban luka berat saat kejadian banjir\n",
        "15. jumlah_luka_ringan : jumlah korban luka ringan saat kejadian banjir\n",
        "16. jumlah_pengungsi_tertinggi : jumlah pengungsi banjir\n",
        "17. jumlah_tempat_pengungsian : jumlah tempat pengungsian korban banjir\n",
        "18. nilai_kerugian : jumlah nilai kerugian akibat kejadian banjir"
      ]
    },
    {
      "cell_type": "markdown",
      "metadata": {
        "id": "3gLn8Xqn4s08"
      },
      "source": [
        "#Telaah Data"
      ]
    },
    {
      "cell_type": "code",
      "metadata": {
        "id": "SnyCdfz5ss-H"
      },
      "source": [
        "#import library\n",
        "import pandas as pd\n",
        "import numpy as np\n",
        "import scipy\n",
        "import matplotlib.pyplot as plt\n",
        "import seaborn as sns"
      ],
      "execution_count": null,
      "outputs": []
    },
    {
      "cell_type": "code",
      "metadata": {
        "colab": {
          "base_uri": "https://localhost:8080/",
          "height": 365
        },
        "id": "Z2EJGK6Ws3xx",
        "outputId": "00752d7c-5bdf-410a-9c0a-20f2f211a8ce"
      },
      "source": [
        "#load dataset\n",
        "df=pd.read_csv('/content/DatasetBanjir - banjirjakarta1920.csv')\n",
        "df.head()"
      ],
      "execution_count": null,
      "outputs": [
        {
          "output_type": "execute_result",
          "data": {
            "text/html": [
              "<div>\n",
              "<style scoped>\n",
              "    .dataframe tbody tr th:only-of-type {\n",
              "        vertical-align: middle;\n",
              "    }\n",
              "\n",
              "    .dataframe tbody tr th {\n",
              "        vertical-align: top;\n",
              "    }\n",
              "\n",
              "    .dataframe thead th {\n",
              "        text-align: right;\n",
              "    }\n",
              "</style>\n",
              "<table border=\"1\" class=\"dataframe\">\n",
              "  <thead>\n",
              "    <tr style=\"text-align: right;\">\n",
              "      <th></th>\n",
              "      <th>kota_administrasi</th>\n",
              "      <th>kecamatan</th>\n",
              "      <th>kelurahan</th>\n",
              "      <th>rw</th>\n",
              "      <th>jumlah_terdampak_rw</th>\n",
              "      <th>jumlah_terdampak_rt</th>\n",
              "      <th>jumlah_terdampak_kk</th>\n",
              "      <th>jumlah_terdampak_jiwa</th>\n",
              "      <th>rata_rata_ketinggian_air</th>\n",
              "      <th>tanggal_kejadian</th>\n",
              "      <th>frekuensi_kejadian</th>\n",
              "      <th>lama_genangan</th>\n",
              "      <th>jumlah_meninggal</th>\n",
              "      <th>jumlah_hilang</th>\n",
              "      <th>jumlah_luka_berat</th>\n",
              "      <th>jumlah_luka_ringan</th>\n",
              "      <th>jumlah_pengungsi_tertinggi</th>\n",
              "      <th>jumlah_tempat_pengungsian</th>\n",
              "      <th>nilai_kerugian</th>\n",
              "    </tr>\n",
              "  </thead>\n",
              "  <tbody>\n",
              "    <tr>\n",
              "      <th>0</th>\n",
              "      <td>Jakarta Pusat</td>\n",
              "      <td>JOHAR BARU</td>\n",
              "      <td>JOHAR BARU</td>\n",
              "      <td>rw 05, 09,</td>\n",
              "      <td>2</td>\n",
              "      <td>2</td>\n",
              "      <td>0.0</td>\n",
              "      <td>0</td>\n",
              "      <td>40</td>\n",
              "      <td>23, 25  februari</td>\n",
              "      <td>2</td>\n",
              "      <td>0</td>\n",
              "      <td>0</td>\n",
              "      <td>0</td>\n",
              "      <td>0</td>\n",
              "      <td>0</td>\n",
              "      <td>0</td>\n",
              "      <td>0</td>\n",
              "      <td>0</td>\n",
              "    </tr>\n",
              "    <tr>\n",
              "      <th>1</th>\n",
              "      <td>Jakarta Pusat</td>\n",
              "      <td>JOHAR BARU</td>\n",
              "      <td>KAMPUNG RAWA</td>\n",
              "      <td>rw 06</td>\n",
              "      <td>1</td>\n",
              "      <td>2</td>\n",
              "      <td>0.0</td>\n",
              "      <td>0</td>\n",
              "      <td>20</td>\n",
              "      <td>23 februari</td>\n",
              "      <td>1</td>\n",
              "      <td>0</td>\n",
              "      <td>0</td>\n",
              "      <td>0</td>\n",
              "      <td>0</td>\n",
              "      <td>0</td>\n",
              "      <td>0</td>\n",
              "      <td>0</td>\n",
              "      <td>0</td>\n",
              "    </tr>\n",
              "    <tr>\n",
              "      <th>2</th>\n",
              "      <td>Jakarta Pusat</td>\n",
              "      <td>JOHAR BARU</td>\n",
              "      <td>TANAH TINGGI</td>\n",
              "      <td>rw 05</td>\n",
              "      <td>1</td>\n",
              "      <td>1</td>\n",
              "      <td>0.0</td>\n",
              "      <td>0</td>\n",
              "      <td>30</td>\n",
              "      <td>23 februari</td>\n",
              "      <td>1</td>\n",
              "      <td>0</td>\n",
              "      <td>0</td>\n",
              "      <td>0</td>\n",
              "      <td>0</td>\n",
              "      <td>0</td>\n",
              "      <td>0</td>\n",
              "      <td>0</td>\n",
              "      <td>0</td>\n",
              "    </tr>\n",
              "    <tr>\n",
              "      <th>3</th>\n",
              "      <td>Jakarta Pusat</td>\n",
              "      <td>KEMAYORAN</td>\n",
              "      <td>GUNUNG SAHARI SELATAN</td>\n",
              "      <td>rw 04, 09,</td>\n",
              "      <td>2</td>\n",
              "      <td>2</td>\n",
              "      <td>0.0</td>\n",
              "      <td>0</td>\n",
              "      <td>60</td>\n",
              "      <td>2, 8, 23 februari</td>\n",
              "      <td>3</td>\n",
              "      <td>0</td>\n",
              "      <td>0</td>\n",
              "      <td>0</td>\n",
              "      <td>0</td>\n",
              "      <td>0</td>\n",
              "      <td>0</td>\n",
              "      <td>0</td>\n",
              "      <td>0</td>\n",
              "    </tr>\n",
              "    <tr>\n",
              "      <th>4</th>\n",
              "      <td>Jakarta Pusat</td>\n",
              "      <td>KEMAYORAN</td>\n",
              "      <td>SERDANG</td>\n",
              "      <td>rw 06, 01</td>\n",
              "      <td>2</td>\n",
              "      <td>2</td>\n",
              "      <td>0.0</td>\n",
              "      <td>0</td>\n",
              "      <td>30</td>\n",
              "      <td>23 februari</td>\n",
              "      <td>1</td>\n",
              "      <td>0</td>\n",
              "      <td>0</td>\n",
              "      <td>0</td>\n",
              "      <td>0</td>\n",
              "      <td>0</td>\n",
              "      <td>0</td>\n",
              "      <td>0</td>\n",
              "      <td>0</td>\n",
              "    </tr>\n",
              "  </tbody>\n",
              "</table>\n",
              "</div>"
            ],
            "text/plain": [
              "  kota_administrasi   kecamatan  ... jumlah_tempat_pengungsian nilai_kerugian\n",
              "0     Jakarta Pusat  JOHAR BARU  ...                         0              0\n",
              "1     Jakarta Pusat  JOHAR BARU  ...                         0              0\n",
              "2     Jakarta Pusat  JOHAR BARU  ...                         0              0\n",
              "3     Jakarta Pusat   KEMAYORAN  ...                         0              0\n",
              "4     Jakarta Pusat   KEMAYORAN  ...                         0              0\n",
              "\n",
              "[5 rows x 19 columns]"
            ]
          },
          "metadata": {},
          "execution_count": 2
        }
      ]
    },
    {
      "cell_type": "markdown",
      "metadata": {
        "id": "Fizw63JEtWGO"
      },
      "source": [
        "\n",
        "- Mengetahui tipe data dari setiap kolom\n",
        "- Mengetahui statistik dasar dari dataset"
      ]
    },
    {
      "cell_type": "code",
      "metadata": {
        "colab": {
          "base_uri": "https://localhost:8080/"
        },
        "id": "m_IYab3CtGMs",
        "outputId": "546d091f-d5e8-4c98-957f-7995ce04c9f7"
      },
      "source": [
        "# Menampilkan tipe data dari setiap Kolom\n",
        "df.dtypes"
      ],
      "execution_count": null,
      "outputs": [
        {
          "output_type": "execute_result",
          "data": {
            "text/plain": [
              "kota_administrasi              object\n",
              "kecamatan                      object\n",
              "kelurahan                      object\n",
              "rw                             object\n",
              "jumlah_terdampak_rw             int64\n",
              "jumlah_terdampak_rt             int64\n",
              "jumlah_terdampak_kk           float64\n",
              "jumlah_terdampak_jiwa           int64\n",
              "rata_rata_ketinggian_air        int64\n",
              "tanggal_kejadian               object\n",
              "frekuensi_kejadian              int64\n",
              "lama_genangan                   int64\n",
              "jumlah_meninggal                int64\n",
              "jumlah_hilang                   int64\n",
              "jumlah_luka_berat               int64\n",
              "jumlah_luka_ringan              int64\n",
              "jumlah_pengungsi_tertinggi      int64\n",
              "jumlah_tempat_pengungsian       int64\n",
              "nilai_kerugian                  int64\n",
              "dtype: object"
            ]
          },
          "metadata": {},
          "execution_count": 3
        }
      ]
    },
    {
      "cell_type": "code",
      "metadata": {
        "colab": {
          "base_uri": "https://localhost:8080/",
          "height": 320
        },
        "id": "ggCKtyQOuBzk",
        "outputId": "428249c4-4f82-4c63-83fc-6fa5d15cfde2"
      },
      "source": [
        "# deskripsi statistik data\n",
        "df.describe()"
      ],
      "execution_count": null,
      "outputs": [
        {
          "output_type": "execute_result",
          "data": {
            "text/html": [
              "<div>\n",
              "<style scoped>\n",
              "    .dataframe tbody tr th:only-of-type {\n",
              "        vertical-align: middle;\n",
              "    }\n",
              "\n",
              "    .dataframe tbody tr th {\n",
              "        vertical-align: top;\n",
              "    }\n",
              "\n",
              "    .dataframe thead th {\n",
              "        text-align: right;\n",
              "    }\n",
              "</style>\n",
              "<table border=\"1\" class=\"dataframe\">\n",
              "  <thead>\n",
              "    <tr style=\"text-align: right;\">\n",
              "      <th></th>\n",
              "      <th>jumlah_terdampak_rw</th>\n",
              "      <th>jumlah_terdampak_rt</th>\n",
              "      <th>jumlah_terdampak_kk</th>\n",
              "      <th>jumlah_terdampak_jiwa</th>\n",
              "      <th>rata_rata_ketinggian_air</th>\n",
              "      <th>frekuensi_kejadian</th>\n",
              "      <th>lama_genangan</th>\n",
              "      <th>jumlah_meninggal</th>\n",
              "      <th>jumlah_hilang</th>\n",
              "      <th>jumlah_luka_berat</th>\n",
              "      <th>jumlah_luka_ringan</th>\n",
              "      <th>jumlah_pengungsi_tertinggi</th>\n",
              "      <th>jumlah_tempat_pengungsian</th>\n",
              "      <th>nilai_kerugian</th>\n",
              "    </tr>\n",
              "  </thead>\n",
              "  <tbody>\n",
              "    <tr>\n",
              "      <th>count</th>\n",
              "      <td>1089.000000</td>\n",
              "      <td>1089.000000</td>\n",
              "      <td>1088.000000</td>\n",
              "      <td>1089.000000</td>\n",
              "      <td>1089.000000</td>\n",
              "      <td>1089.000000</td>\n",
              "      <td>1089.000000</td>\n",
              "      <td>1089.0</td>\n",
              "      <td>1089.0</td>\n",
              "      <td>1089.0</td>\n",
              "      <td>1089.000000</td>\n",
              "      <td>1089.000000</td>\n",
              "      <td>1089.000000</td>\n",
              "      <td>1089.0</td>\n",
              "    </tr>\n",
              "    <tr>\n",
              "      <th>mean</th>\n",
              "      <td>2.067952</td>\n",
              "      <td>3.989899</td>\n",
              "      <td>43.221507</td>\n",
              "      <td>152.363636</td>\n",
              "      <td>41.960514</td>\n",
              "      <td>1.684114</td>\n",
              "      <td>0.019284</td>\n",
              "      <td>0.0</td>\n",
              "      <td>0.0</td>\n",
              "      <td>0.0</td>\n",
              "      <td>86.261708</td>\n",
              "      <td>1.246097</td>\n",
              "      <td>0.011019</td>\n",
              "      <td>0.0</td>\n",
              "    </tr>\n",
              "    <tr>\n",
              "      <th>std</th>\n",
              "      <td>2.329670</td>\n",
              "      <td>6.036568</td>\n",
              "      <td>195.737300</td>\n",
              "      <td>670.113326</td>\n",
              "      <td>28.538244</td>\n",
              "      <td>1.182491</td>\n",
              "      <td>0.150352</td>\n",
              "      <td>0.0</td>\n",
              "      <td>0.0</td>\n",
              "      <td>0.0</td>\n",
              "      <td>348.987636</td>\n",
              "      <td>10.229537</td>\n",
              "      <td>0.135133</td>\n",
              "      <td>0.0</td>\n",
              "    </tr>\n",
              "    <tr>\n",
              "      <th>min</th>\n",
              "      <td>0.000000</td>\n",
              "      <td>1.000000</td>\n",
              "      <td>0.000000</td>\n",
              "      <td>0.000000</td>\n",
              "      <td>5.000000</td>\n",
              "      <td>1.000000</td>\n",
              "      <td>0.000000</td>\n",
              "      <td>0.0</td>\n",
              "      <td>0.0</td>\n",
              "      <td>0.0</td>\n",
              "      <td>0.000000</td>\n",
              "      <td>0.000000</td>\n",
              "      <td>0.000000</td>\n",
              "      <td>0.0</td>\n",
              "    </tr>\n",
              "    <tr>\n",
              "      <th>25%</th>\n",
              "      <td>1.000000</td>\n",
              "      <td>1.000000</td>\n",
              "      <td>0.000000</td>\n",
              "      <td>0.000000</td>\n",
              "      <td>20.000000</td>\n",
              "      <td>1.000000</td>\n",
              "      <td>0.000000</td>\n",
              "      <td>0.0</td>\n",
              "      <td>0.0</td>\n",
              "      <td>0.0</td>\n",
              "      <td>0.000000</td>\n",
              "      <td>0.000000</td>\n",
              "      <td>0.000000</td>\n",
              "      <td>0.0</td>\n",
              "    </tr>\n",
              "    <tr>\n",
              "      <th>50%</th>\n",
              "      <td>1.000000</td>\n",
              "      <td>1.000000</td>\n",
              "      <td>0.000000</td>\n",
              "      <td>0.000000</td>\n",
              "      <td>35.000000</td>\n",
              "      <td>1.000000</td>\n",
              "      <td>0.000000</td>\n",
              "      <td>0.0</td>\n",
              "      <td>0.0</td>\n",
              "      <td>0.0</td>\n",
              "      <td>0.000000</td>\n",
              "      <td>0.000000</td>\n",
              "      <td>0.000000</td>\n",
              "      <td>0.0</td>\n",
              "    </tr>\n",
              "    <tr>\n",
              "      <th>75%</th>\n",
              "      <td>3.000000</td>\n",
              "      <td>4.000000</td>\n",
              "      <td>5.000000</td>\n",
              "      <td>19.000000</td>\n",
              "      <td>50.000000</td>\n",
              "      <td>2.000000</td>\n",
              "      <td>0.000000</td>\n",
              "      <td>0.0</td>\n",
              "      <td>0.0</td>\n",
              "      <td>0.0</td>\n",
              "      <td>0.000000</td>\n",
              "      <td>0.000000</td>\n",
              "      <td>0.000000</td>\n",
              "      <td>0.0</td>\n",
              "    </tr>\n",
              "    <tr>\n",
              "      <th>max</th>\n",
              "      <td>15.000000</td>\n",
              "      <td>51.000000</td>\n",
              "      <td>3762.000000</td>\n",
              "      <td>13450.000000</td>\n",
              "      <td>221.000000</td>\n",
              "      <td>10.000000</td>\n",
              "      <td>2.000000</td>\n",
              "      <td>0.0</td>\n",
              "      <td>0.0</td>\n",
              "      <td>0.0</td>\n",
              "      <td>4461.000000</td>\n",
              "      <td>271.000000</td>\n",
              "      <td>3.000000</td>\n",
              "      <td>0.0</td>\n",
              "    </tr>\n",
              "  </tbody>\n",
              "</table>\n",
              "</div>"
            ],
            "text/plain": [
              "       jumlah_terdampak_rw  ...  nilai_kerugian\n",
              "count          1089.000000  ...          1089.0\n",
              "mean              2.067952  ...             0.0\n",
              "std               2.329670  ...             0.0\n",
              "min               0.000000  ...             0.0\n",
              "25%               1.000000  ...             0.0\n",
              "50%               1.000000  ...             0.0\n",
              "75%               3.000000  ...             0.0\n",
              "max              15.000000  ...             0.0\n",
              "\n",
              "[8 rows x 14 columns]"
            ]
          },
          "metadata": {},
          "execution_count": 4
        }
      ]
    },
    {
      "cell_type": "code",
      "metadata": {
        "colab": {
          "base_uri": "https://localhost:8080/"
        },
        "id": "fJE8HEmst1F3",
        "outputId": "8962e3a6-7e75-48b5-fde5-2cc73faba981"
      },
      "source": [
        "#melihat bentuk ukuran dataset\n",
        "df.shape"
      ],
      "execution_count": null,
      "outputs": [
        {
          "output_type": "execute_result",
          "data": {
            "text/plain": [
              "(1089, 19)"
            ]
          },
          "metadata": {},
          "execution_count": 5
        }
      ]
    },
    {
      "cell_type": "code",
      "metadata": {
        "colab": {
          "base_uri": "https://localhost:8080/"
        },
        "id": "1FGb3nneuBB1",
        "outputId": "887f2e27-eb17-491c-d63b-d5b489c0ec4d"
      },
      "source": [
        "#menjumlahkan\n",
        "df.sum()"
      ],
      "execution_count": null,
      "outputs": [
        {
          "output_type": "execute_result",
          "data": {
            "text/plain": [
              "kota_administrasi             Jakarta PusatJakarta PusatJakarta PusatJakarta...\n",
              "kecamatan                     JOHAR BARUJOHAR BARUJOHAR BARUKEMAYORANKEMAYOR...\n",
              "kelurahan                     JOHAR BARUKAMPUNG RAWATANAH TINGGIGUNUNG SAHAR...\n",
              "rw                            rw 05, 09, rw 06rw 05rw 04, 09, rw 06, 01rw 05...\n",
              "jumlah_terdampak_rw                                                        2252\n",
              "jumlah_terdampak_rt                                                        4345\n",
              "jumlah_terdampak_kk                                                       47025\n",
              "jumlah_terdampak_jiwa                                                    165924\n",
              "rata_rata_ketinggian_air                                                  45695\n",
              "tanggal_kejadian              23, 25  februari23 februari23 februari2, 8, 23...\n",
              "frekuensi_kejadian                                                         1834\n",
              "lama_genangan                                                                21\n",
              "jumlah_meninggal                                                              0\n",
              "jumlah_hilang                                                                 0\n",
              "jumlah_luka_berat                                                             0\n",
              "jumlah_luka_ringan                                                        93939\n",
              "jumlah_pengungsi_tertinggi                                                 1357\n",
              "jumlah_tempat_pengungsian                                                    12\n",
              "nilai_kerugian                                                                0\n",
              "dtype: object"
            ]
          },
          "metadata": {},
          "execution_count": 6
        }
      ]
    },
    {
      "cell_type": "code",
      "metadata": {
        "colab": {
          "base_uri": "https://localhost:8080/",
          "height": 773
        },
        "id": "UafvUItZ6MFe",
        "outputId": "39ed8269-a19e-45db-c434-fca3769844f1"
      },
      "source": [
        "#memisahkan data\n",
        "df_noid = df.iloc[:,0:11]\n",
        "df_noid"
      ],
      "execution_count": null,
      "outputs": [
        {
          "output_type": "execute_result",
          "data": {
            "text/html": [
              "<div>\n",
              "<style scoped>\n",
              "    .dataframe tbody tr th:only-of-type {\n",
              "        vertical-align: middle;\n",
              "    }\n",
              "\n",
              "    .dataframe tbody tr th {\n",
              "        vertical-align: top;\n",
              "    }\n",
              "\n",
              "    .dataframe thead th {\n",
              "        text-align: right;\n",
              "    }\n",
              "</style>\n",
              "<table border=\"1\" class=\"dataframe\">\n",
              "  <thead>\n",
              "    <tr style=\"text-align: right;\">\n",
              "      <th></th>\n",
              "      <th>kota_administrasi</th>\n",
              "      <th>kecamatan</th>\n",
              "      <th>kelurahan</th>\n",
              "      <th>rw</th>\n",
              "      <th>jumlah_terdampak_rw</th>\n",
              "      <th>jumlah_terdampak_rt</th>\n",
              "      <th>jumlah_terdampak_kk</th>\n",
              "      <th>jumlah_terdampak_jiwa</th>\n",
              "      <th>rata_rata_ketinggian_air</th>\n",
              "      <th>tanggal_kejadian</th>\n",
              "      <th>frekuensi_kejadian</th>\n",
              "    </tr>\n",
              "  </thead>\n",
              "  <tbody>\n",
              "    <tr>\n",
              "      <th>0</th>\n",
              "      <td>Jakarta Pusat</td>\n",
              "      <td>JOHAR BARU</td>\n",
              "      <td>JOHAR BARU</td>\n",
              "      <td>rw 05, 09,</td>\n",
              "      <td>2</td>\n",
              "      <td>2</td>\n",
              "      <td>0.0</td>\n",
              "      <td>0</td>\n",
              "      <td>40</td>\n",
              "      <td>23, 25  februari</td>\n",
              "      <td>2</td>\n",
              "    </tr>\n",
              "    <tr>\n",
              "      <th>1</th>\n",
              "      <td>Jakarta Pusat</td>\n",
              "      <td>JOHAR BARU</td>\n",
              "      <td>KAMPUNG RAWA</td>\n",
              "      <td>rw 06</td>\n",
              "      <td>1</td>\n",
              "      <td>2</td>\n",
              "      <td>0.0</td>\n",
              "      <td>0</td>\n",
              "      <td>20</td>\n",
              "      <td>23 februari</td>\n",
              "      <td>1</td>\n",
              "    </tr>\n",
              "    <tr>\n",
              "      <th>2</th>\n",
              "      <td>Jakarta Pusat</td>\n",
              "      <td>JOHAR BARU</td>\n",
              "      <td>TANAH TINGGI</td>\n",
              "      <td>rw 05</td>\n",
              "      <td>1</td>\n",
              "      <td>1</td>\n",
              "      <td>0.0</td>\n",
              "      <td>0</td>\n",
              "      <td>30</td>\n",
              "      <td>23 februari</td>\n",
              "      <td>1</td>\n",
              "    </tr>\n",
              "    <tr>\n",
              "      <th>3</th>\n",
              "      <td>Jakarta Pusat</td>\n",
              "      <td>KEMAYORAN</td>\n",
              "      <td>GUNUNG SAHARI SELATAN</td>\n",
              "      <td>rw 04, 09,</td>\n",
              "      <td>2</td>\n",
              "      <td>2</td>\n",
              "      <td>0.0</td>\n",
              "      <td>0</td>\n",
              "      <td>60</td>\n",
              "      <td>2, 8, 23 februari</td>\n",
              "      <td>3</td>\n",
              "    </tr>\n",
              "    <tr>\n",
              "      <th>4</th>\n",
              "      <td>Jakarta Pusat</td>\n",
              "      <td>KEMAYORAN</td>\n",
              "      <td>SERDANG</td>\n",
              "      <td>rw 06, 01</td>\n",
              "      <td>2</td>\n",
              "      <td>2</td>\n",
              "      <td>0.0</td>\n",
              "      <td>0</td>\n",
              "      <td>30</td>\n",
              "      <td>23 februari</td>\n",
              "      <td>1</td>\n",
              "    </tr>\n",
              "    <tr>\n",
              "      <th>...</th>\n",
              "      <td>...</td>\n",
              "      <td>...</td>\n",
              "      <td>...</td>\n",
              "      <td>...</td>\n",
              "      <td>...</td>\n",
              "      <td>...</td>\n",
              "      <td>...</td>\n",
              "      <td>...</td>\n",
              "      <td>...</td>\n",
              "      <td>...</td>\n",
              "      <td>...</td>\n",
              "    </tr>\n",
              "    <tr>\n",
              "      <th>1084</th>\n",
              "      <td>Jakarta Timur</td>\n",
              "      <td>KEC. MAKASAR</td>\n",
              "      <td>KEL. KEBON PALA</td>\n",
              "      <td>06, 04, 05</td>\n",
              "      <td>3</td>\n",
              "      <td>3</td>\n",
              "      <td>0.0</td>\n",
              "      <td>0</td>\n",
              "      <td>40</td>\n",
              "      <td>tgl. 23, 27</td>\n",
              "      <td>2</td>\n",
              "    </tr>\n",
              "    <tr>\n",
              "      <th>1085</th>\n",
              "      <td>Jakarta Timur</td>\n",
              "      <td>KEC. KRAMAT JATI</td>\n",
              "      <td>KEL. BATU AMPAR</td>\n",
              "      <td>4</td>\n",
              "      <td>1</td>\n",
              "      <td>1</td>\n",
              "      <td>0.0</td>\n",
              "      <td>0</td>\n",
              "      <td>40</td>\n",
              "      <td>tgl 27,</td>\n",
              "      <td>1</td>\n",
              "    </tr>\n",
              "    <tr>\n",
              "      <th>1086</th>\n",
              "      <td>Jakarta Timur</td>\n",
              "      <td>KEC. KRAMAT JATI</td>\n",
              "      <td>KEL. CAWANG</td>\n",
              "      <td>3</td>\n",
              "      <td>1</td>\n",
              "      <td>2</td>\n",
              "      <td>0.0</td>\n",
              "      <td>0</td>\n",
              "      <td>50</td>\n",
              "      <td>tgl 27,</td>\n",
              "      <td>1</td>\n",
              "    </tr>\n",
              "    <tr>\n",
              "      <th>1087</th>\n",
              "      <td>Jakarta Timur</td>\n",
              "      <td>KEC. JATINEGARA</td>\n",
              "      <td>KEL. KAMPUNG MELAYU</td>\n",
              "      <td>04, 05, 07, 08,</td>\n",
              "      <td>4</td>\n",
              "      <td>25</td>\n",
              "      <td>106.0</td>\n",
              "      <td>337</td>\n",
              "      <td>30</td>\n",
              "      <td>tgl 27, 31</td>\n",
              "      <td>2</td>\n",
              "    </tr>\n",
              "    <tr>\n",
              "      <th>1088</th>\n",
              "      <td>Jakarta Timur</td>\n",
              "      <td>KEC. JATINEGARA</td>\n",
              "      <td>KEL. BIDARA CINA</td>\n",
              "      <td>7</td>\n",
              "      <td>1</td>\n",
              "      <td>10</td>\n",
              "      <td>0.0</td>\n",
              "      <td>0</td>\n",
              "      <td>35</td>\n",
              "      <td>tgl 27,</td>\n",
              "      <td>1</td>\n",
              "    </tr>\n",
              "  </tbody>\n",
              "</table>\n",
              "<p>1089 rows × 11 columns</p>\n",
              "</div>"
            ],
            "text/plain": [
              "     kota_administrasi         kecamatan  ...   tanggal_kejadian frekuensi_kejadian\n",
              "0        Jakarta Pusat        JOHAR BARU  ...   23, 25  februari                  2\n",
              "1        Jakarta Pusat        JOHAR BARU  ...        23 februari                  1\n",
              "2        Jakarta Pusat        JOHAR BARU  ...        23 februari                  1\n",
              "3        Jakarta Pusat         KEMAYORAN  ...  2, 8, 23 februari                  3\n",
              "4        Jakarta Pusat         KEMAYORAN  ...        23 februari                  1\n",
              "...                ...               ...  ...                ...                ...\n",
              "1084     Jakarta Timur      KEC. MAKASAR  ...        tgl. 23, 27                  2\n",
              "1085     Jakarta Timur  KEC. KRAMAT JATI  ...           tgl 27,                   1\n",
              "1086     Jakarta Timur  KEC. KRAMAT JATI  ...           tgl 27,                   1\n",
              "1087     Jakarta Timur   KEC. JATINEGARA  ...         tgl 27, 31                  2\n",
              "1088     Jakarta Timur   KEC. JATINEGARA  ...           tgl 27,                   1\n",
              "\n",
              "[1089 rows x 11 columns]"
            ]
          },
          "metadata": {},
          "execution_count": 7
        }
      ]
    },
    {
      "cell_type": "code",
      "metadata": {
        "colab": {
          "base_uri": "https://localhost:8080/",
          "height": 300
        },
        "id": "2aCnhCDC6bko",
        "outputId": "afc8308d-c91a-4ff2-e0b3-926c55a1df73"
      },
      "source": [
        "df_noid.describe()"
      ],
      "execution_count": null,
      "outputs": [
        {
          "output_type": "execute_result",
          "data": {
            "text/html": [
              "<div>\n",
              "<style scoped>\n",
              "    .dataframe tbody tr th:only-of-type {\n",
              "        vertical-align: middle;\n",
              "    }\n",
              "\n",
              "    .dataframe tbody tr th {\n",
              "        vertical-align: top;\n",
              "    }\n",
              "\n",
              "    .dataframe thead th {\n",
              "        text-align: right;\n",
              "    }\n",
              "</style>\n",
              "<table border=\"1\" class=\"dataframe\">\n",
              "  <thead>\n",
              "    <tr style=\"text-align: right;\">\n",
              "      <th></th>\n",
              "      <th>jumlah_terdampak_rw</th>\n",
              "      <th>jumlah_terdampak_rt</th>\n",
              "      <th>jumlah_terdampak_kk</th>\n",
              "      <th>jumlah_terdampak_jiwa</th>\n",
              "      <th>rata_rata_ketinggian_air</th>\n",
              "      <th>frekuensi_kejadian</th>\n",
              "    </tr>\n",
              "  </thead>\n",
              "  <tbody>\n",
              "    <tr>\n",
              "      <th>count</th>\n",
              "      <td>1089.000000</td>\n",
              "      <td>1089.000000</td>\n",
              "      <td>1088.000000</td>\n",
              "      <td>1089.000000</td>\n",
              "      <td>1089.000000</td>\n",
              "      <td>1089.000000</td>\n",
              "    </tr>\n",
              "    <tr>\n",
              "      <th>mean</th>\n",
              "      <td>2.067952</td>\n",
              "      <td>3.989899</td>\n",
              "      <td>43.221507</td>\n",
              "      <td>152.363636</td>\n",
              "      <td>41.960514</td>\n",
              "      <td>1.684114</td>\n",
              "    </tr>\n",
              "    <tr>\n",
              "      <th>std</th>\n",
              "      <td>2.329670</td>\n",
              "      <td>6.036568</td>\n",
              "      <td>195.737300</td>\n",
              "      <td>670.113326</td>\n",
              "      <td>28.538244</td>\n",
              "      <td>1.182491</td>\n",
              "    </tr>\n",
              "    <tr>\n",
              "      <th>min</th>\n",
              "      <td>0.000000</td>\n",
              "      <td>1.000000</td>\n",
              "      <td>0.000000</td>\n",
              "      <td>0.000000</td>\n",
              "      <td>5.000000</td>\n",
              "      <td>1.000000</td>\n",
              "    </tr>\n",
              "    <tr>\n",
              "      <th>25%</th>\n",
              "      <td>1.000000</td>\n",
              "      <td>1.000000</td>\n",
              "      <td>0.000000</td>\n",
              "      <td>0.000000</td>\n",
              "      <td>20.000000</td>\n",
              "      <td>1.000000</td>\n",
              "    </tr>\n",
              "    <tr>\n",
              "      <th>50%</th>\n",
              "      <td>1.000000</td>\n",
              "      <td>1.000000</td>\n",
              "      <td>0.000000</td>\n",
              "      <td>0.000000</td>\n",
              "      <td>35.000000</td>\n",
              "      <td>1.000000</td>\n",
              "    </tr>\n",
              "    <tr>\n",
              "      <th>75%</th>\n",
              "      <td>3.000000</td>\n",
              "      <td>4.000000</td>\n",
              "      <td>5.000000</td>\n",
              "      <td>19.000000</td>\n",
              "      <td>50.000000</td>\n",
              "      <td>2.000000</td>\n",
              "    </tr>\n",
              "    <tr>\n",
              "      <th>max</th>\n",
              "      <td>15.000000</td>\n",
              "      <td>51.000000</td>\n",
              "      <td>3762.000000</td>\n",
              "      <td>13450.000000</td>\n",
              "      <td>221.000000</td>\n",
              "      <td>10.000000</td>\n",
              "    </tr>\n",
              "  </tbody>\n",
              "</table>\n",
              "</div>"
            ],
            "text/plain": [
              "       jumlah_terdampak_rw  ...  frekuensi_kejadian\n",
              "count          1089.000000  ...         1089.000000\n",
              "mean              2.067952  ...            1.684114\n",
              "std               2.329670  ...            1.182491\n",
              "min               0.000000  ...            1.000000\n",
              "25%               1.000000  ...            1.000000\n",
              "50%               1.000000  ...            1.000000\n",
              "75%               3.000000  ...            2.000000\n",
              "max              15.000000  ...           10.000000\n",
              "\n",
              "[8 rows x 6 columns]"
            ]
          },
          "metadata": {},
          "execution_count": 8
        }
      ]
    },
    {
      "cell_type": "markdown",
      "metadata": {
        "id": "QK6el9VkC1uQ"
      },
      "source": [
        "### Mencari (outlier) pencilan dengan Tukey's fences "
      ]
    },
    {
      "cell_type": "code",
      "metadata": {
        "colab": {
          "base_uri": "https://localhost:8080/"
        },
        "id": "jhiJ4m-4vKCw",
        "outputId": "908c2121-a070-464c-eca2-d71f87b6a5b2"
      },
      "source": [
        "# Mencari Pencilan (Outlier) dengan Tukey's fences\n",
        "q1 = df.quantile(0.25)\n",
        "q3 = df.quantile(0.75)\n",
        "iqr = q3 - q1\n",
        "iqr"
      ],
      "execution_count": null,
      "outputs": [
        {
          "output_type": "execute_result",
          "data": {
            "text/plain": [
              "jumlah_terdampak_rw            2.0\n",
              "jumlah_terdampak_rt            3.0\n",
              "jumlah_terdampak_kk            5.0\n",
              "jumlah_terdampak_jiwa         19.0\n",
              "rata_rata_ketinggian_air      30.0\n",
              "frekuensi_kejadian             1.0\n",
              "lama_genangan                  0.0\n",
              "jumlah_meninggal               0.0\n",
              "jumlah_hilang                  0.0\n",
              "jumlah_luka_berat              0.0\n",
              "jumlah_luka_ringan             0.0\n",
              "jumlah_pengungsi_tertinggi     0.0\n",
              "jumlah_tempat_pengungsian      0.0\n",
              "nilai_kerugian                 0.0\n",
              "dtype: float64"
            ]
          },
          "metadata": {},
          "execution_count": 9
        }
      ]
    },
    {
      "cell_type": "code",
      "metadata": {
        "colab": {
          "base_uri": "https://localhost:8080/",
          "height": 443
        },
        "id": "1ZoefhGa6xsv",
        "outputId": "21306fda-ecc7-42d3-ccd1-10629f9df3f1"
      },
      "source": [
        "df_noid_align, iqr_new = df_noid.align(iqr, axis=1, copy=False, join='outer')\n",
        "outlier_filter = (df_noid < q1 - 1.5 * iqr_new) | (df_noid > q3 + 1.5 * iqr_new)\n",
        "outlier_filter"
      ],
      "execution_count": null,
      "outputs": [
        {
          "output_type": "execute_result",
          "data": {
            "text/html": [
              "<div>\n",
              "<style scoped>\n",
              "    .dataframe tbody tr th:only-of-type {\n",
              "        vertical-align: middle;\n",
              "    }\n",
              "\n",
              "    .dataframe tbody tr th {\n",
              "        vertical-align: top;\n",
              "    }\n",
              "\n",
              "    .dataframe thead th {\n",
              "        text-align: right;\n",
              "    }\n",
              "</style>\n",
              "<table border=\"1\" class=\"dataframe\">\n",
              "  <thead>\n",
              "    <tr style=\"text-align: right;\">\n",
              "      <th></th>\n",
              "      <th>frekuensi_kejadian</th>\n",
              "      <th>jumlah_hilang</th>\n",
              "      <th>jumlah_luka_berat</th>\n",
              "      <th>jumlah_luka_ringan</th>\n",
              "      <th>jumlah_meninggal</th>\n",
              "      <th>jumlah_pengungsi_tertinggi</th>\n",
              "      <th>jumlah_tempat_pengungsian</th>\n",
              "      <th>jumlah_terdampak_jiwa</th>\n",
              "      <th>jumlah_terdampak_kk</th>\n",
              "      <th>jumlah_terdampak_rt</th>\n",
              "      <th>jumlah_terdampak_rw</th>\n",
              "      <th>kecamatan</th>\n",
              "      <th>kelurahan</th>\n",
              "      <th>kota_administrasi</th>\n",
              "      <th>lama_genangan</th>\n",
              "      <th>nilai_kerugian</th>\n",
              "      <th>rata_rata_ketinggian_air</th>\n",
              "      <th>rw</th>\n",
              "      <th>tanggal_kejadian</th>\n",
              "    </tr>\n",
              "  </thead>\n",
              "  <tbody>\n",
              "    <tr>\n",
              "      <th>0</th>\n",
              "      <td>False</td>\n",
              "      <td>False</td>\n",
              "      <td>False</td>\n",
              "      <td>False</td>\n",
              "      <td>False</td>\n",
              "      <td>False</td>\n",
              "      <td>False</td>\n",
              "      <td>False</td>\n",
              "      <td>False</td>\n",
              "      <td>False</td>\n",
              "      <td>False</td>\n",
              "      <td>False</td>\n",
              "      <td>False</td>\n",
              "      <td>False</td>\n",
              "      <td>False</td>\n",
              "      <td>False</td>\n",
              "      <td>False</td>\n",
              "      <td>False</td>\n",
              "      <td>False</td>\n",
              "    </tr>\n",
              "    <tr>\n",
              "      <th>1</th>\n",
              "      <td>False</td>\n",
              "      <td>False</td>\n",
              "      <td>False</td>\n",
              "      <td>False</td>\n",
              "      <td>False</td>\n",
              "      <td>False</td>\n",
              "      <td>False</td>\n",
              "      <td>False</td>\n",
              "      <td>False</td>\n",
              "      <td>False</td>\n",
              "      <td>False</td>\n",
              "      <td>False</td>\n",
              "      <td>False</td>\n",
              "      <td>False</td>\n",
              "      <td>False</td>\n",
              "      <td>False</td>\n",
              "      <td>False</td>\n",
              "      <td>False</td>\n",
              "      <td>False</td>\n",
              "    </tr>\n",
              "    <tr>\n",
              "      <th>2</th>\n",
              "      <td>False</td>\n",
              "      <td>False</td>\n",
              "      <td>False</td>\n",
              "      <td>False</td>\n",
              "      <td>False</td>\n",
              "      <td>False</td>\n",
              "      <td>False</td>\n",
              "      <td>False</td>\n",
              "      <td>False</td>\n",
              "      <td>False</td>\n",
              "      <td>False</td>\n",
              "      <td>False</td>\n",
              "      <td>False</td>\n",
              "      <td>False</td>\n",
              "      <td>False</td>\n",
              "      <td>False</td>\n",
              "      <td>False</td>\n",
              "      <td>False</td>\n",
              "      <td>False</td>\n",
              "    </tr>\n",
              "    <tr>\n",
              "      <th>3</th>\n",
              "      <td>False</td>\n",
              "      <td>False</td>\n",
              "      <td>False</td>\n",
              "      <td>False</td>\n",
              "      <td>False</td>\n",
              "      <td>False</td>\n",
              "      <td>False</td>\n",
              "      <td>False</td>\n",
              "      <td>False</td>\n",
              "      <td>False</td>\n",
              "      <td>False</td>\n",
              "      <td>False</td>\n",
              "      <td>False</td>\n",
              "      <td>False</td>\n",
              "      <td>False</td>\n",
              "      <td>False</td>\n",
              "      <td>False</td>\n",
              "      <td>False</td>\n",
              "      <td>False</td>\n",
              "    </tr>\n",
              "    <tr>\n",
              "      <th>4</th>\n",
              "      <td>False</td>\n",
              "      <td>False</td>\n",
              "      <td>False</td>\n",
              "      <td>False</td>\n",
              "      <td>False</td>\n",
              "      <td>False</td>\n",
              "      <td>False</td>\n",
              "      <td>False</td>\n",
              "      <td>False</td>\n",
              "      <td>False</td>\n",
              "      <td>False</td>\n",
              "      <td>False</td>\n",
              "      <td>False</td>\n",
              "      <td>False</td>\n",
              "      <td>False</td>\n",
              "      <td>False</td>\n",
              "      <td>False</td>\n",
              "      <td>False</td>\n",
              "      <td>False</td>\n",
              "    </tr>\n",
              "    <tr>\n",
              "      <th>...</th>\n",
              "      <td>...</td>\n",
              "      <td>...</td>\n",
              "      <td>...</td>\n",
              "      <td>...</td>\n",
              "      <td>...</td>\n",
              "      <td>...</td>\n",
              "      <td>...</td>\n",
              "      <td>...</td>\n",
              "      <td>...</td>\n",
              "      <td>...</td>\n",
              "      <td>...</td>\n",
              "      <td>...</td>\n",
              "      <td>...</td>\n",
              "      <td>...</td>\n",
              "      <td>...</td>\n",
              "      <td>...</td>\n",
              "      <td>...</td>\n",
              "      <td>...</td>\n",
              "      <td>...</td>\n",
              "    </tr>\n",
              "    <tr>\n",
              "      <th>1084</th>\n",
              "      <td>False</td>\n",
              "      <td>False</td>\n",
              "      <td>False</td>\n",
              "      <td>False</td>\n",
              "      <td>False</td>\n",
              "      <td>False</td>\n",
              "      <td>False</td>\n",
              "      <td>False</td>\n",
              "      <td>False</td>\n",
              "      <td>False</td>\n",
              "      <td>False</td>\n",
              "      <td>False</td>\n",
              "      <td>False</td>\n",
              "      <td>False</td>\n",
              "      <td>False</td>\n",
              "      <td>False</td>\n",
              "      <td>False</td>\n",
              "      <td>False</td>\n",
              "      <td>False</td>\n",
              "    </tr>\n",
              "    <tr>\n",
              "      <th>1085</th>\n",
              "      <td>False</td>\n",
              "      <td>False</td>\n",
              "      <td>False</td>\n",
              "      <td>False</td>\n",
              "      <td>False</td>\n",
              "      <td>False</td>\n",
              "      <td>False</td>\n",
              "      <td>False</td>\n",
              "      <td>False</td>\n",
              "      <td>False</td>\n",
              "      <td>False</td>\n",
              "      <td>False</td>\n",
              "      <td>False</td>\n",
              "      <td>False</td>\n",
              "      <td>False</td>\n",
              "      <td>False</td>\n",
              "      <td>False</td>\n",
              "      <td>False</td>\n",
              "      <td>False</td>\n",
              "    </tr>\n",
              "    <tr>\n",
              "      <th>1086</th>\n",
              "      <td>False</td>\n",
              "      <td>False</td>\n",
              "      <td>False</td>\n",
              "      <td>False</td>\n",
              "      <td>False</td>\n",
              "      <td>False</td>\n",
              "      <td>False</td>\n",
              "      <td>False</td>\n",
              "      <td>False</td>\n",
              "      <td>False</td>\n",
              "      <td>False</td>\n",
              "      <td>False</td>\n",
              "      <td>False</td>\n",
              "      <td>False</td>\n",
              "      <td>False</td>\n",
              "      <td>False</td>\n",
              "      <td>False</td>\n",
              "      <td>False</td>\n",
              "      <td>False</td>\n",
              "    </tr>\n",
              "    <tr>\n",
              "      <th>1087</th>\n",
              "      <td>False</td>\n",
              "      <td>False</td>\n",
              "      <td>False</td>\n",
              "      <td>False</td>\n",
              "      <td>False</td>\n",
              "      <td>False</td>\n",
              "      <td>False</td>\n",
              "      <td>True</td>\n",
              "      <td>True</td>\n",
              "      <td>True</td>\n",
              "      <td>False</td>\n",
              "      <td>False</td>\n",
              "      <td>False</td>\n",
              "      <td>False</td>\n",
              "      <td>False</td>\n",
              "      <td>False</td>\n",
              "      <td>False</td>\n",
              "      <td>False</td>\n",
              "      <td>False</td>\n",
              "    </tr>\n",
              "    <tr>\n",
              "      <th>1088</th>\n",
              "      <td>False</td>\n",
              "      <td>False</td>\n",
              "      <td>False</td>\n",
              "      <td>False</td>\n",
              "      <td>False</td>\n",
              "      <td>False</td>\n",
              "      <td>False</td>\n",
              "      <td>False</td>\n",
              "      <td>False</td>\n",
              "      <td>True</td>\n",
              "      <td>False</td>\n",
              "      <td>False</td>\n",
              "      <td>False</td>\n",
              "      <td>False</td>\n",
              "      <td>False</td>\n",
              "      <td>False</td>\n",
              "      <td>False</td>\n",
              "      <td>False</td>\n",
              "      <td>False</td>\n",
              "    </tr>\n",
              "  </tbody>\n",
              "</table>\n",
              "<p>1089 rows × 19 columns</p>\n",
              "</div>"
            ],
            "text/plain": [
              "      frekuensi_kejadian  jumlah_hilang  ...     rw  tanggal_kejadian\n",
              "0                  False          False  ...  False             False\n",
              "1                  False          False  ...  False             False\n",
              "2                  False          False  ...  False             False\n",
              "3                  False          False  ...  False             False\n",
              "4                  False          False  ...  False             False\n",
              "...                  ...            ...  ...    ...               ...\n",
              "1084               False          False  ...  False             False\n",
              "1085               False          False  ...  False             False\n",
              "1086               False          False  ...  False             False\n",
              "1087               False          False  ...  False             False\n",
              "1088               False          False  ...  False             False\n",
              "\n",
              "[1089 rows x 19 columns]"
            ]
          },
          "metadata": {},
          "execution_count": 10
        }
      ]
    },
    {
      "cell_type": "code",
      "metadata": {
        "colab": {
          "base_uri": "https://localhost:8080/",
          "height": 423
        },
        "id": "GXt3Z3SO_wAp",
        "outputId": "63a77b84-9be8-43da-a0dc-953a260bec04"
      },
      "source": [
        "df_outlier_filter = df_noid[outlier_filter['rata_rata_ketinggian_air']].loc[:,['kecamatan','rata_rata_ketinggian_air']].sort_values(by=['rata_rata_ketinggian_air'],ascending=False)\n",
        "df_outlier_filter"
      ],
      "execution_count": null,
      "outputs": [
        {
          "output_type": "execute_result",
          "data": {
            "text/html": [
              "<div>\n",
              "<style scoped>\n",
              "    .dataframe tbody tr th:only-of-type {\n",
              "        vertical-align: middle;\n",
              "    }\n",
              "\n",
              "    .dataframe tbody tr th {\n",
              "        vertical-align: top;\n",
              "    }\n",
              "\n",
              "    .dataframe thead th {\n",
              "        text-align: right;\n",
              "    }\n",
              "</style>\n",
              "<table border=\"1\" class=\"dataframe\">\n",
              "  <thead>\n",
              "    <tr style=\"text-align: right;\">\n",
              "      <th></th>\n",
              "      <th>kecamatan</th>\n",
              "      <th>rata_rata_ketinggian_air</th>\n",
              "    </tr>\n",
              "  </thead>\n",
              "  <tbody>\n",
              "    <tr>\n",
              "      <th>260</th>\n",
              "      <td>PESANGGRAHAN</td>\n",
              "      <td>221</td>\n",
              "    </tr>\n",
              "    <tr>\n",
              "      <th>262</th>\n",
              "      <td>PESANGGRAHAN</td>\n",
              "      <td>221</td>\n",
              "    </tr>\n",
              "    <tr>\n",
              "      <th>261</th>\n",
              "      <td>PESANGGRAHAN</td>\n",
              "      <td>221</td>\n",
              "    </tr>\n",
              "    <tr>\n",
              "      <th>96</th>\n",
              "      <td>PANCORAN</td>\n",
              "      <td>200</td>\n",
              "    </tr>\n",
              "    <tr>\n",
              "      <th>294</th>\n",
              "      <td>JATINEGARA</td>\n",
              "      <td>180</td>\n",
              "    </tr>\n",
              "    <tr>\n",
              "      <th>...</th>\n",
              "      <td>...</td>\n",
              "      <td>...</td>\n",
              "    </tr>\n",
              "    <tr>\n",
              "      <th>575</th>\n",
              "      <td>PASAR MINGGU</td>\n",
              "      <td>100</td>\n",
              "    </tr>\n",
              "    <tr>\n",
              "      <th>503</th>\n",
              "      <td>KEBON JERUK</td>\n",
              "      <td>100</td>\n",
              "    </tr>\n",
              "    <tr>\n",
              "      <th>399</th>\n",
              "      <td>KRAMAT JATI</td>\n",
              "      <td>100</td>\n",
              "    </tr>\n",
              "    <tr>\n",
              "      <th>388</th>\n",
              "      <td>PASAR MINGGU</td>\n",
              "      <td>100</td>\n",
              "    </tr>\n",
              "    <tr>\n",
              "      <th>87</th>\n",
              "      <td>KEBAYORAN LAMA</td>\n",
              "      <td>100</td>\n",
              "    </tr>\n",
              "  </tbody>\n",
              "</table>\n",
              "<p>61 rows × 2 columns</p>\n",
              "</div>"
            ],
            "text/plain": [
              "          kecamatan  rata_rata_ketinggian_air\n",
              "260    PESANGGRAHAN                       221\n",
              "262    PESANGGRAHAN                       221\n",
              "261    PESANGGRAHAN                       221\n",
              "96         PANCORAN                       200\n",
              "294      JATINEGARA                       180\n",
              "..              ...                       ...\n",
              "575    PASAR MINGGU                       100\n",
              "503     KEBON JERUK                       100\n",
              "399     KRAMAT JATI                       100\n",
              "388    PASAR MINGGU                       100\n",
              "87   KEBAYORAN LAMA                       100\n",
              "\n",
              "[61 rows x 2 columns]"
            ]
          },
          "metadata": {},
          "execution_count": 11
        }
      ]
    },
    {
      "cell_type": "code",
      "metadata": {
        "colab": {
          "base_uri": "https://localhost:8080/"
        },
        "id": "Z_dagfpm1GqS",
        "outputId": "8126fe4b-5c8f-4367-ad3a-88428b8ded98"
      },
      "source": [
        "df['kecamatan'].value_counts()"
      ],
      "execution_count": null,
      "outputs": [
        {
          "output_type": "execute_result",
          "data": {
            "text/plain": [
              "JATINEGARA               84\n",
              "KRAMAT JATI              74\n",
              "PASAR MINGGU             55\n",
              "KEBON JERUK              48\n",
              "CIRACAS                  44\n",
              "                         ..\n",
              "KEC. MAMPANG PRAPATAN     1\n",
              "PULO GADUNG               1\n",
              "GAMBIR                    1\n",
              "KEC. PADEMANGAN           1\n",
              "KEC. MAMPANG              1\n",
              "Name: kecamatan, Length: 80, dtype: int64"
            ]
          },
          "metadata": {},
          "execution_count": 12
        }
      ]
    },
    {
      "cell_type": "code",
      "metadata": {
        "colab": {
          "base_uri": "https://localhost:8080/"
        },
        "id": "REl2o1le1c6M",
        "outputId": "2ace4ee3-58b8-4aab-ca2c-efb0dd287f1c"
      },
      "source": [
        "df['kecamatan'].unique()"
      ],
      "execution_count": null,
      "outputs": [
        {
          "output_type": "execute_result",
          "data": {
            "text/plain": [
              "array(['JOHAR BARU', 'KEMAYORAN', 'SAWAH BESAR', 'TANAH ABANG', 'SENEN',\n",
              "       'MENTENG', 'CEMPAKA PUTIH', 'GAMBIR', 'TANJUNG PRIOK',\n",
              "       'KELAPA GADING', 'KOJA', 'PENJARINGAN', 'PADEMANGAN', 'CILIINCING',\n",
              "       'CENGKARENG', 'GROGOL PETAMBURAN', 'KALIDERES', 'KEBON JERUK',\n",
              "       'KEMBANGAN', 'PALMERAH', 'TAMAN SARI', 'TAMBORA', 'CILANDAK',\n",
              "       'JAGAKARSA', 'KEBAYORAN BARU', 'KEBAYORAN LAMA',\n",
              "       'MAMPANG PRAPATAN', 'PANCORAN', 'PASAR MINGGU', 'PESANGGRAHAN',\n",
              "       'SETIABUDI', 'TEBET', 'CAKUNG', 'CIPAYUNG', 'CIRACAS',\n",
              "       'DUREN SAWIT', 'JATINEGARA', 'KRAMAT JATI', 'MAKASAR', 'MATRAMAN',\n",
              "       'PASAR REBO', 'PULOGADUNG', 'CILINCING',\n",
              "       'KEPULAUAN SERIBU SELATAN', 'KEPULAUAN SERIBU UTARA', 'MAMPANG',\n",
              "       'PULO GADUNG', 'KEC. PENJARINGAN', 'KEC. KEMBANGAN',\n",
              "       'KEC. KALIDERES', 'KEC. KEBAYORAN LAMA', 'KEC, PASAR MINGGU',\n",
              "       'KEC. PANCORAN', 'KEC. TEBET', 'KEC. KEBAYORAN BARU',\n",
              "       'KEC. MAMPANG', 'KEC. JAGAKARSA', 'KEC. CILANDAK', 'KEC. MAKASAR',\n",
              "       'KEC. PASAR REBO', 'KEC. JATINEGARA', 'KEC.KRAMAT JATI',\n",
              "       'KEC. CILINCING', 'KEC. KELAPA GADING', 'KEC. KOJA',\n",
              "       'KEC. TANJUNG PRIOK', 'KEC. KEBON JERUK', 'KEC. CENGKARENG',\n",
              "       'KEC. GROGOL PETAMBURAN', 'KEC. PALMERAH', 'KEC. PASAR MINGGU',\n",
              "       'KEC. CAKUNG', 'KEC. SENEN', 'KEC. PADEMANGAN', 'KEC. TAMBORA',\n",
              "       'KEC. KRAMAT JATI', 'KEC. CIRACAS', 'KEC. MAMPANG PRAPATAN',\n",
              "       'KEC. MATRAMAN', 'KEC. KALI DERES'], dtype=object)"
            ]
          },
          "metadata": {},
          "execution_count": 13
        }
      ]
    },
    {
      "cell_type": "code",
      "metadata": {
        "colab": {
          "base_uri": "https://localhost:8080/"
        },
        "id": "0iFSYmp51j8S",
        "outputId": "452c2a0c-6870-4b9a-a45a-8f6f0d4bae3c"
      },
      "source": [
        "# Mengelompokkan rata-rata ketinggian air berdasarkan KECAMATAN\n",
        "df.groupby('kecamatan')['rata_rata_ketinggian_air'].mean()"
      ],
      "execution_count": null,
      "outputs": [
        {
          "output_type": "execute_result",
          "data": {
            "text/plain": [
              "kecamatan\n",
              "CAKUNG           45.722222\n",
              "CEMPAKA PUTIH    23.750000\n",
              "CENGKARENG       28.641026\n",
              "CILANDAK         50.526316\n",
              "CILIINCING       38.000000\n",
              "                   ...    \n",
              "TAMAN SARI       30.000000\n",
              "TAMBORA          35.000000\n",
              "TANAH ABANG      48.666667\n",
              "TANJUNG PRIOK    23.333333\n",
              "TEBET            48.800000\n",
              "Name: rata_rata_ketinggian_air, Length: 80, dtype: float64"
            ]
          },
          "metadata": {},
          "execution_count": 14
        }
      ]
    },
    {
      "cell_type": "code",
      "metadata": {
        "colab": {
          "base_uri": "https://localhost:8080/",
          "height": 288
        },
        "id": "7ZxnePOf22xY",
        "outputId": "0806f021-5795-4fd2-cc7e-39813ee52da4"
      },
      "source": [
        "#Melihat korelasi antar KOLOM\n",
        "df.loc[:,'jumlah_terdampak_rw':'lama_genangan'].corr()"
      ],
      "execution_count": null,
      "outputs": [
        {
          "output_type": "execute_result",
          "data": {
            "text/html": [
              "<div>\n",
              "<style scoped>\n",
              "    .dataframe tbody tr th:only-of-type {\n",
              "        vertical-align: middle;\n",
              "    }\n",
              "\n",
              "    .dataframe tbody tr th {\n",
              "        vertical-align: top;\n",
              "    }\n",
              "\n",
              "    .dataframe thead th {\n",
              "        text-align: right;\n",
              "    }\n",
              "</style>\n",
              "<table border=\"1\" class=\"dataframe\">\n",
              "  <thead>\n",
              "    <tr style=\"text-align: right;\">\n",
              "      <th></th>\n",
              "      <th>jumlah_terdampak_rw</th>\n",
              "      <th>jumlah_terdampak_rt</th>\n",
              "      <th>jumlah_terdampak_kk</th>\n",
              "      <th>jumlah_terdampak_jiwa</th>\n",
              "      <th>rata_rata_ketinggian_air</th>\n",
              "      <th>frekuensi_kejadian</th>\n",
              "      <th>lama_genangan</th>\n",
              "    </tr>\n",
              "  </thead>\n",
              "  <tbody>\n",
              "    <tr>\n",
              "      <th>jumlah_terdampak_rw</th>\n",
              "      <td>1.000000</td>\n",
              "      <td>0.717267</td>\n",
              "      <td>0.391584</td>\n",
              "      <td>0.399439</td>\n",
              "      <td>0.268554</td>\n",
              "      <td>0.256361</td>\n",
              "      <td>0.200929</td>\n",
              "    </tr>\n",
              "    <tr>\n",
              "      <th>jumlah_terdampak_rt</th>\n",
              "      <td>0.717267</td>\n",
              "      <td>1.000000</td>\n",
              "      <td>0.428910</td>\n",
              "      <td>0.417705</td>\n",
              "      <td>0.231259</td>\n",
              "      <td>0.317591</td>\n",
              "      <td>0.132876</td>\n",
              "    </tr>\n",
              "    <tr>\n",
              "      <th>jumlah_terdampak_kk</th>\n",
              "      <td>0.391584</td>\n",
              "      <td>0.428910</td>\n",
              "      <td>1.000000</td>\n",
              "      <td>0.987936</td>\n",
              "      <td>0.253538</td>\n",
              "      <td>0.216636</td>\n",
              "      <td>0.126244</td>\n",
              "    </tr>\n",
              "    <tr>\n",
              "      <th>jumlah_terdampak_jiwa</th>\n",
              "      <td>0.399439</td>\n",
              "      <td>0.417705</td>\n",
              "      <td>0.987936</td>\n",
              "      <td>1.000000</td>\n",
              "      <td>0.266261</td>\n",
              "      <td>0.209956</td>\n",
              "      <td>0.137187</td>\n",
              "    </tr>\n",
              "    <tr>\n",
              "      <th>rata_rata_ketinggian_air</th>\n",
              "      <td>0.268554</td>\n",
              "      <td>0.231259</td>\n",
              "      <td>0.253538</td>\n",
              "      <td>0.266261</td>\n",
              "      <td>1.000000</td>\n",
              "      <td>0.164028</td>\n",
              "      <td>0.167474</td>\n",
              "    </tr>\n",
              "    <tr>\n",
              "      <th>frekuensi_kejadian</th>\n",
              "      <td>0.256361</td>\n",
              "      <td>0.317591</td>\n",
              "      <td>0.216636</td>\n",
              "      <td>0.209956</td>\n",
              "      <td>0.164028</td>\n",
              "      <td>1.000000</td>\n",
              "      <td>0.070481</td>\n",
              "    </tr>\n",
              "    <tr>\n",
              "      <th>lama_genangan</th>\n",
              "      <td>0.200929</td>\n",
              "      <td>0.132876</td>\n",
              "      <td>0.126244</td>\n",
              "      <td>0.137187</td>\n",
              "      <td>0.167474</td>\n",
              "      <td>0.070481</td>\n",
              "      <td>1.000000</td>\n",
              "    </tr>\n",
              "  </tbody>\n",
              "</table>\n",
              "</div>"
            ],
            "text/plain": [
              "                          jumlah_terdampak_rw  ...  lama_genangan\n",
              "jumlah_terdampak_rw                  1.000000  ...       0.200929\n",
              "jumlah_terdampak_rt                  0.717267  ...       0.132876\n",
              "jumlah_terdampak_kk                  0.391584  ...       0.126244\n",
              "jumlah_terdampak_jiwa                0.399439  ...       0.137187\n",
              "rata_rata_ketinggian_air             0.268554  ...       0.167474\n",
              "frekuensi_kejadian                   0.256361  ...       0.070481\n",
              "lama_genangan                        0.200929  ...       1.000000\n",
              "\n",
              "[7 rows x 7 columns]"
            ]
          },
          "metadata": {},
          "execution_count": 15
        }
      ]
    },
    {
      "cell_type": "markdown",
      "metadata": {
        "id": "T9fT4GNb4k8N"
      },
      "source": [
        "# Data Prepration"
      ]
    },
    {
      "cell_type": "code",
      "metadata": {
        "colab": {
          "base_uri": "https://localhost:8080/"
        },
        "id": "ShDsVahdFNuZ",
        "outputId": "5478f764-3775-4af7-fc32-751c336e8710"
      },
      "source": [
        "# Mengecek nilai NaN\n",
        "df.isna().sum()"
      ],
      "execution_count": null,
      "outputs": [
        {
          "output_type": "execute_result",
          "data": {
            "text/plain": [
              "kota_administrasi             0\n",
              "kecamatan                     0\n",
              "kelurahan                     0\n",
              "rw                            0\n",
              "jumlah_terdampak_rw           0\n",
              "jumlah_terdampak_rt           0\n",
              "jumlah_terdampak_kk           1\n",
              "jumlah_terdampak_jiwa         0\n",
              "rata_rata_ketinggian_air      0\n",
              "tanggal_kejadian              0\n",
              "frekuensi_kejadian            0\n",
              "lama_genangan                 0\n",
              "jumlah_meninggal              0\n",
              "jumlah_hilang                 0\n",
              "jumlah_luka_berat             0\n",
              "jumlah_luka_ringan            0\n",
              "jumlah_pengungsi_tertinggi    0\n",
              "jumlah_tempat_pengungsian     0\n",
              "nilai_kerugian                0\n",
              "dtype: int64"
            ]
          },
          "metadata": {},
          "execution_count": 16
        }
      ]
    },
    {
      "cell_type": "code",
      "metadata": {
        "id": "NypU_aEkxSq7"
      },
      "source": [
        "# Mengisi nilai NaN dengan 0\n",
        "df.fillna(0,inplace=True)"
      ],
      "execution_count": null,
      "outputs": []
    },
    {
      "cell_type": "code",
      "metadata": {
        "colab": {
          "base_uri": "https://localhost:8080/"
        },
        "id": "SYhgmFxFxcBA",
        "outputId": "ce40c989-f167-4bb9-db22-3e17e04b627d"
      },
      "source": [
        "# Mengecek kembali nilai NaN\n",
        "df.isna().sum()"
      ],
      "execution_count": null,
      "outputs": [
        {
          "output_type": "execute_result",
          "data": {
            "text/plain": [
              "kota_administrasi             0\n",
              "kecamatan                     0\n",
              "kelurahan                     0\n",
              "rw                            0\n",
              "jumlah_terdampak_rw           0\n",
              "jumlah_terdampak_rt           0\n",
              "jumlah_terdampak_kk           0\n",
              "jumlah_terdampak_jiwa         0\n",
              "rata_rata_ketinggian_air      0\n",
              "tanggal_kejadian              0\n",
              "frekuensi_kejadian            0\n",
              "lama_genangan                 0\n",
              "jumlah_meninggal              0\n",
              "jumlah_hilang                 0\n",
              "jumlah_luka_berat             0\n",
              "jumlah_luka_ringan            0\n",
              "jumlah_pengungsi_tertinggi    0\n",
              "jumlah_tempat_pengungsian     0\n",
              "nilai_kerugian                0\n",
              "dtype: int64"
            ]
          },
          "metadata": {},
          "execution_count": 18
        }
      ]
    },
    {
      "cell_type": "code",
      "metadata": {
        "colab": {
          "base_uri": "https://localhost:8080/",
          "height": 298
        },
        "id": "BspmyLpUAqqN",
        "outputId": "968bf5b0-1b85-4109-c850-c16332879007"
      },
      "source": [
        "#melihat outlier (pencilan)\n",
        "sns.boxplot(x=\"frekuensi_kejadian\", y=\"rata_rata_ketinggian_air\", data=df_noid)"
      ],
      "execution_count": null,
      "outputs": [
        {
          "output_type": "execute_result",
          "data": {
            "text/plain": [
              "<matplotlib.axes._subplots.AxesSubplot at 0x7f46adf2f790>"
            ]
          },
          "metadata": {},
          "execution_count": 19
        },
        {
          "output_type": "display_data",
          "data": {
            "image/png": "[encoded data removed]",
            "text/plain": [
              "<Figure size 432x288 with 1 Axes>"
            ]
          },
          "metadata": {
            "needs_background": "light"
          }
        }
      ]
    },
    {
      "cell_type": "code",
      "metadata": {
        "colab": {
          "base_uri": "https://localhost:8080/",
          "height": 707
        },
        "id": "w9GjYVJhC6jr",
        "outputId": "8a8f058b-88ed-44e7-a917-a5a0115823d5"
      },
      "source": [
        "# melihat korelasi menggunakan heatmap\n",
        "plt.figure(figsize=(10,10))\n",
        "g=sns.heatmap(df_noid.corr(),annot=True,cmap=\"RdYlGn\")"
      ],
      "execution_count": null,
      "outputs": [
        {
          "output_type": "display_data",
          "data": {
            "image/png": "[encoded data removed]",
            "text/plain": [
              "<Figure size 720x720 with 2 Axes>"
            ]
          },
          "metadata": {
            "needs_background": "light"
          }
        }
      ]
    },
    {
      "cell_type": "markdown",
      "metadata": {
        "id": "T7BjE0gnHSpz"
      },
      "source": [
        "### DATA CLEANING"
      ]
    },
    {
      "cell_type": "code",
      "metadata": {
        "colab": {
          "base_uri": "https://localhost:8080/",
          "height": 773
        },
        "id": "Ao-aZuKaEfPp",
        "outputId": "92ca9119-5621-4bea-a127-7ee001000b2e"
      },
      "source": [
        "df"
      ],
      "execution_count": null,
      "outputs": [
        {
          "output_type": "execute_result",
          "data": {
            "text/html": [
              "<div>\n",
              "<style scoped>\n",
              "    .dataframe tbody tr th:only-of-type {\n",
              "        vertical-align: middle;\n",
              "    }\n",
              "\n",
              "    .dataframe tbody tr th {\n",
              "        vertical-align: top;\n",
              "    }\n",
              "\n",
              "    .dataframe thead th {\n",
              "        text-align: right;\n",
              "    }\n",
              "</style>\n",
              "<table border=\"1\" class=\"dataframe\">\n",
              "  <thead>\n",
              "    <tr style=\"text-align: right;\">\n",
              "      <th></th>\n",
              "      <th>kota_administrasi</th>\n",
              "      <th>kecamatan</th>\n",
              "      <th>kelurahan</th>\n",
              "      <th>rw</th>\n",
              "      <th>jumlah_terdampak_rw</th>\n",
              "      <th>jumlah_terdampak_rt</th>\n",
              "      <th>jumlah_terdampak_kk</th>\n",
              "      <th>jumlah_terdampak_jiwa</th>\n",
              "      <th>rata_rata_ketinggian_air</th>\n",
              "      <th>tanggal_kejadian</th>\n",
              "      <th>frekuensi_kejadian</th>\n",
              "      <th>lama_genangan</th>\n",
              "      <th>jumlah_meninggal</th>\n",
              "      <th>jumlah_hilang</th>\n",
              "      <th>jumlah_luka_berat</th>\n",
              "      <th>jumlah_luka_ringan</th>\n",
              "      <th>jumlah_pengungsi_tertinggi</th>\n",
              "      <th>jumlah_tempat_pengungsian</th>\n",
              "      <th>nilai_kerugian</th>\n",
              "    </tr>\n",
              "  </thead>\n",
              "  <tbody>\n",
              "    <tr>\n",
              "      <th>0</th>\n",
              "      <td>Jakarta Pusat</td>\n",
              "      <td>JOHAR BARU</td>\n",
              "      <td>JOHAR BARU</td>\n",
              "      <td>rw 05, 09,</td>\n",
              "      <td>2</td>\n",
              "      <td>2</td>\n",
              "      <td>0.0</td>\n",
              "      <td>0</td>\n",
              "      <td>40</td>\n",
              "      <td>23, 25  februari</td>\n",
              "      <td>2</td>\n",
              "      <td>0</td>\n",
              "      <td>0</td>\n",
              "      <td>0</td>\n",
              "      <td>0</td>\n",
              "      <td>0</td>\n",
              "      <td>0</td>\n",
              "      <td>0</td>\n",
              "      <td>0</td>\n",
              "    </tr>\n",
              "    <tr>\n",
              "      <th>1</th>\n",
              "      <td>Jakarta Pusat</td>\n",
              "      <td>JOHAR BARU</td>\n",
              "      <td>KAMPUNG RAWA</td>\n",
              "      <td>rw 06</td>\n",
              "      <td>1</td>\n",
              "      <td>2</td>\n",
              "      <td>0.0</td>\n",
              "      <td>0</td>\n",
              "      <td>20</td>\n",
              "      <td>23 februari</td>\n",
              "      <td>1</td>\n",
              "      <td>0</td>\n",
              "      <td>0</td>\n",
              "      <td>0</td>\n",
              "      <td>0</td>\n",
              "      <td>0</td>\n",
              "      <td>0</td>\n",
              "      <td>0</td>\n",
              "      <td>0</td>\n",
              "    </tr>\n",
              "    <tr>\n",
              "      <th>2</th>\n",
              "      <td>Jakarta Pusat</td>\n",
              "      <td>JOHAR BARU</td>\n",
              "      <td>TANAH TINGGI</td>\n",
              "      <td>rw 05</td>\n",
              "      <td>1</td>\n",
              "      <td>1</td>\n",
              "      <td>0.0</td>\n",
              "      <td>0</td>\n",
              "      <td>30</td>\n",
              "      <td>23 februari</td>\n",
              "      <td>1</td>\n",
              "      <td>0</td>\n",
              "      <td>0</td>\n",
              "      <td>0</td>\n",
              "      <td>0</td>\n",
              "      <td>0</td>\n",
              "      <td>0</td>\n",
              "      <td>0</td>\n",
              "      <td>0</td>\n",
              "    </tr>\n",
              "    <tr>\n",
              "      <th>3</th>\n",
              "      <td>Jakarta Pusat</td>\n",
              "      <td>KEMAYORAN</td>\n",
              "      <td>GUNUNG SAHARI SELATAN</td>\n",
              "      <td>rw 04, 09,</td>\n",
              "      <td>2</td>\n",
              "      <td>2</td>\n",
              "      <td>0.0</td>\n",
              "      <td>0</td>\n",
              "      <td>60</td>\n",
              "      <td>2, 8, 23 februari</td>\n",
              "      <td>3</td>\n",
              "      <td>0</td>\n",
              "      <td>0</td>\n",
              "      <td>0</td>\n",
              "      <td>0</td>\n",
              "      <td>0</td>\n",
              "      <td>0</td>\n",
              "      <td>0</td>\n",
              "      <td>0</td>\n",
              "    </tr>\n",
              "    <tr>\n",
              "      <th>4</th>\n",
              "      <td>Jakarta Pusat</td>\n",
              "      <td>KEMAYORAN</td>\n",
              "      <td>SERDANG</td>\n",
              "      <td>rw 06, 01</td>\n",
              "      <td>2</td>\n",
              "      <td>2</td>\n",
              "      <td>0.0</td>\n",
              "      <td>0</td>\n",
              "      <td>30</td>\n",
              "      <td>23 februari</td>\n",
              "      <td>1</td>\n",
              "      <td>0</td>\n",
              "      <td>0</td>\n",
              "      <td>0</td>\n",
              "      <td>0</td>\n",
              "      <td>0</td>\n",
              "      <td>0</td>\n",
              "      <td>0</td>\n",
              "      <td>0</td>\n",
              "    </tr>\n",
              "    <tr>\n",
              "      <th>...</th>\n",
              "      <td>...</td>\n",
              "      <td>...</td>\n",
              "      <td>...</td>\n",
              "      <td>...</td>\n",
              "      <td>...</td>\n",
              "      <td>...</td>\n",
              "      <td>...</td>\n",
              "      <td>...</td>\n",
              "      <td>...</td>\n",
              "      <td>...</td>\n",
              "      <td>...</td>\n",
              "      <td>...</td>\n",
              "      <td>...</td>\n",
              "      <td>...</td>\n",
              "      <td>...</td>\n",
              "      <td>...</td>\n",
              "      <td>...</td>\n",
              "      <td>...</td>\n",
              "      <td>...</td>\n",
              "    </tr>\n",
              "    <tr>\n",
              "      <th>1084</th>\n",
              "      <td>Jakarta Timur</td>\n",
              "      <td>KEC. MAKASAR</td>\n",
              "      <td>KEL. KEBON PALA</td>\n",
              "      <td>06, 04, 05</td>\n",
              "      <td>3</td>\n",
              "      <td>3</td>\n",
              "      <td>0.0</td>\n",
              "      <td>0</td>\n",
              "      <td>40</td>\n",
              "      <td>tgl. 23, 27</td>\n",
              "      <td>2</td>\n",
              "      <td>0</td>\n",
              "      <td>0</td>\n",
              "      <td>0</td>\n",
              "      <td>0</td>\n",
              "      <td>0</td>\n",
              "      <td>0</td>\n",
              "      <td>0</td>\n",
              "      <td>0</td>\n",
              "    </tr>\n",
              "    <tr>\n",
              "      <th>1085</th>\n",
              "      <td>Jakarta Timur</td>\n",
              "      <td>KEC. KRAMAT JATI</td>\n",
              "      <td>KEL. BATU AMPAR</td>\n",
              "      <td>4</td>\n",
              "      <td>1</td>\n",
              "      <td>1</td>\n",
              "      <td>0.0</td>\n",
              "      <td>0</td>\n",
              "      <td>40</td>\n",
              "      <td>tgl 27,</td>\n",
              "      <td>1</td>\n",
              "      <td>0</td>\n",
              "      <td>0</td>\n",
              "      <td>0</td>\n",
              "      <td>0</td>\n",
              "      <td>0</td>\n",
              "      <td>0</td>\n",
              "      <td>0</td>\n",
              "      <td>0</td>\n",
              "    </tr>\n",
              "    <tr>\n",
              "      <th>1086</th>\n",
              "      <td>Jakarta Timur</td>\n",
              "      <td>KEC. KRAMAT JATI</td>\n",
              "      <td>KEL. CAWANG</td>\n",
              "      <td>3</td>\n",
              "      <td>1</td>\n",
              "      <td>2</td>\n",
              "      <td>0.0</td>\n",
              "      <td>0</td>\n",
              "      <td>50</td>\n",
              "      <td>tgl 27,</td>\n",
              "      <td>1</td>\n",
              "      <td>0</td>\n",
              "      <td>0</td>\n",
              "      <td>0</td>\n",
              "      <td>0</td>\n",
              "      <td>0</td>\n",
              "      <td>0</td>\n",
              "      <td>0</td>\n",
              "      <td>0</td>\n",
              "    </tr>\n",
              "    <tr>\n",
              "      <th>1087</th>\n",
              "      <td>Jakarta Timur</td>\n",
              "      <td>KEC. JATINEGARA</td>\n",
              "      <td>KEL. KAMPUNG MELAYU</td>\n",
              "      <td>04, 05, 07, 08,</td>\n",
              "      <td>4</td>\n",
              "      <td>25</td>\n",
              "      <td>106.0</td>\n",
              "      <td>337</td>\n",
              "      <td>30</td>\n",
              "      <td>tgl 27, 31</td>\n",
              "      <td>2</td>\n",
              "      <td>0</td>\n",
              "      <td>0</td>\n",
              "      <td>0</td>\n",
              "      <td>0</td>\n",
              "      <td>0</td>\n",
              "      <td>0</td>\n",
              "      <td>0</td>\n",
              "      <td>0</td>\n",
              "    </tr>\n",
              "    <tr>\n",
              "      <th>1088</th>\n",
              "      <td>Jakarta Timur</td>\n",
              "      <td>KEC. JATINEGARA</td>\n",
              "      <td>KEL. BIDARA CINA</td>\n",
              "      <td>7</td>\n",
              "      <td>1</td>\n",
              "      <td>10</td>\n",
              "      <td>0.0</td>\n",
              "      <td>0</td>\n",
              "      <td>35</td>\n",
              "      <td>tgl 27,</td>\n",
              "      <td>1</td>\n",
              "      <td>0</td>\n",
              "      <td>0</td>\n",
              "      <td>0</td>\n",
              "      <td>0</td>\n",
              "      <td>0</td>\n",
              "      <td>0</td>\n",
              "      <td>0</td>\n",
              "      <td>0</td>\n",
              "    </tr>\n",
              "  </tbody>\n",
              "</table>\n",
              "<p>1089 rows × 19 columns</p>\n",
              "</div>"
            ],
            "text/plain": [
              "     kota_administrasi  ... nilai_kerugian\n",
              "0        Jakarta Pusat  ...              0\n",
              "1        Jakarta Pusat  ...              0\n",
              "2        Jakarta Pusat  ...              0\n",
              "3        Jakarta Pusat  ...              0\n",
              "4        Jakarta Pusat  ...              0\n",
              "...                ...  ...            ...\n",
              "1084     Jakarta Timur  ...              0\n",
              "1085     Jakarta Timur  ...              0\n",
              "1086     Jakarta Timur  ...              0\n",
              "1087     Jakarta Timur  ...              0\n",
              "1088     Jakarta Timur  ...              0\n",
              "\n",
              "[1089 rows x 19 columns]"
            ]
          },
          "metadata": {},
          "execution_count": 21
        }
      ]
    },
    {
      "cell_type": "code",
      "metadata": {
        "colab": {
          "base_uri": "https://localhost:8080/",
          "height": 731
        },
        "id": "Ku6VimkSHP41",
        "outputId": "2ea744c7-3318-4b3b-ee93-19c2f330c33a"
      },
      "source": [
        "# mengecek data dengan heatmap\n",
        "plt.figure(figsize=(10,10))\n",
        "g=sns.heatmap(df.corr(),annot=True,cmap=\"RdYlGn\")"
      ],
      "execution_count": null,
      "outputs": [
        {
          "output_type": "display_data",
          "data": {
            "image/png": "[encoded data removed]",
            "text/plain": [
              "<Figure size 720x720 with 2 Axes>"
            ]
          },
          "metadata": {
            "needs_background": "light"
          }
        }
      ]
    },
    {
      "cell_type": "markdown",
      "metadata": {
        "id": "vtyFxepCIVTK"
      },
      "source": [
        "Pada feature yang berwarna putih (kosong), berarti feature tersebut memiliki nilai NaN"
      ]
    },
    {
      "cell_type": "code",
      "metadata": {
        "id": "XvuLuZuPE0q_"
      },
      "source": [
        "to_drop = ['jumlah_meninggal','jumlah_hilang','jumlah_luka_berat','nilai_kerugian']"
      ],
      "execution_count": null,
      "outputs": []
    },
    {
      "cell_type": "code",
      "metadata": {
        "id": "HZgBijnwHrkb"
      },
      "source": [
        "df.drop(columns=to_drop, inplace=True)"
      ],
      "execution_count": null,
      "outputs": []
    },
    {
      "cell_type": "code",
      "metadata": {
        "colab": {
          "base_uri": "https://localhost:8080/",
          "height": 731
        },
        "id": "WZeX4xdfH7Yy",
        "outputId": "9eea16cc-6357-4d72-ba75-6d2a94d0a18c"
      },
      "source": [
        "# mengecek kembali data yang telah dihapus menggunakan heatmap\n",
        "plt.figure(figsize=(10,10))\n",
        "g=sns.heatmap(df.corr(),annot=True,cmap=\"RdYlGn\")"
      ],
      "execution_count": null,
      "outputs": [
        {
          "output_type": "display_data",
          "data": {
            "image/png": "[encoded data removed]",
            "text/plain": [
              "<Figure size 720x720 with 2 Axes>"
            ]
          },
          "metadata": {
            "needs_background": "light"
          }
        }
      ]
    },
    {
      "cell_type": "markdown",
      "metadata": {
        "id": "rjFBgY2dIi2B"
      },
      "source": [
        "Menghapus feature yang bernilai NaN"
      ]
    },
    {
      "cell_type": "markdown",
      "metadata": {
        "id": "-6FCbcmn0KyH"
      },
      "source": [
        "# Pembuatan MODEL\n",
        "Kategori banjir berdasarkan frekuensi kejadian : \n",
        "1. Ringan 1-3\n",
        "2. Sedang 4-7\n",
        "3. Berat 8-10"
      ]
    },
    {
      "cell_type": "code",
      "metadata": {
        "id": "U4Yj4PoIrYan"
      },
      "source": [
        "#df.drop(columns=\"KategoriBanjir\")"
      ],
      "execution_count": null,
      "outputs": []
    },
    {
      "cell_type": "code",
      "metadata": {
        "id": "CRJnsgHVbLeH"
      },
      "source": [
        "category = pd.cut(df.frekuensi_kejadian,bins=[0,3,7,11],labels=['Ringan','Sedang','Berat'])\n",
        "df.insert(11,'KategoriBanjir',category)"
      ],
      "execution_count": null,
      "outputs": []
    },
    {
      "cell_type": "code",
      "metadata": {
        "colab": {
          "base_uri": "https://localhost:8080/"
        },
        "id": "E_0YyBmWveNw",
        "outputId": "db0bdb28-9fd3-4377-d83a-355a564f1564"
      },
      "source": [
        "df['KategoriBanjir'].unique()"
      ],
      "execution_count": null,
      "outputs": [
        {
          "output_type": "execute_result",
          "data": {
            "text/plain": [
              "['Ringan', 'Sedang', 'Berat']\n",
              "Categories (3, object): ['Ringan' < 'Sedang' < 'Berat']"
            ]
          },
          "metadata": {},
          "execution_count": 28
        }
      ]
    },
    {
      "cell_type": "code",
      "metadata": {
        "colab": {
          "base_uri": "https://localhost:8080/",
          "height": 1000
        },
        "id": "5Cd0BEEmcR_l",
        "outputId": "9707d96f-bf78-4237-efab-a3de46c96c6c"
      },
      "source": [
        "df.head(20)"
      ],
      "execution_count": null,
      "outputs": [
        {
          "output_type": "execute_result",
          "data": {
            "text/html": [
              "<div>\n",
              "<style scoped>\n",
              "    .dataframe tbody tr th:only-of-type {\n",
              "        vertical-align: middle;\n",
              "    }\n",
              "\n",
              "    .dataframe tbody tr th {\n",
              "        vertical-align: top;\n",
              "    }\n",
              "\n",
              "    .dataframe thead th {\n",
              "        text-align: right;\n",
              "    }\n",
              "</style>\n",
              "<table border=\"1\" class=\"dataframe\">\n",
              "  <thead>\n",
              "    <tr style=\"text-align: right;\">\n",
              "      <th></th>\n",
              "      <th>kota_administrasi</th>\n",
              "      <th>kecamatan</th>\n",
              "      <th>kelurahan</th>\n",
              "      <th>rw</th>\n",
              "      <th>jumlah_terdampak_rw</th>\n",
              "      <th>jumlah_terdampak_rt</th>\n",
              "      <th>jumlah_terdampak_kk</th>\n",
              "      <th>jumlah_terdampak_jiwa</th>\n",
              "      <th>rata_rata_ketinggian_air</th>\n",
              "      <th>tanggal_kejadian</th>\n",
              "      <th>frekuensi_kejadian</th>\n",
              "      <th>KategoriBanjir</th>\n",
              "      <th>lama_genangan</th>\n",
              "      <th>jumlah_luka_ringan</th>\n",
              "      <th>jumlah_pengungsi_tertinggi</th>\n",
              "      <th>jumlah_tempat_pengungsian</th>\n",
              "    </tr>\n",
              "  </thead>\n",
              "  <tbody>\n",
              "    <tr>\n",
              "      <th>0</th>\n",
              "      <td>Jakarta Pusat</td>\n",
              "      <td>JOHAR BARU</td>\n",
              "      <td>JOHAR BARU</td>\n",
              "      <td>rw 05, 09,</td>\n",
              "      <td>2</td>\n",
              "      <td>2</td>\n",
              "      <td>0.0</td>\n",
              "      <td>0</td>\n",
              "      <td>40</td>\n",
              "      <td>23, 25  februari</td>\n",
              "      <td>2</td>\n",
              "      <td>Ringan</td>\n",
              "      <td>0</td>\n",
              "      <td>0</td>\n",
              "      <td>0</td>\n",
              "      <td>0</td>\n",
              "    </tr>\n",
              "    <tr>\n",
              "      <th>1</th>\n",
              "      <td>Jakarta Pusat</td>\n",
              "      <td>JOHAR BARU</td>\n",
              "      <td>KAMPUNG RAWA</td>\n",
              "      <td>rw 06</td>\n",
              "      <td>1</td>\n",
              "      <td>2</td>\n",
              "      <td>0.0</td>\n",
              "      <td>0</td>\n",
              "      <td>20</td>\n",
              "      <td>23 februari</td>\n",
              "      <td>1</td>\n",
              "      <td>Ringan</td>\n",
              "      <td>0</td>\n",
              "      <td>0</td>\n",
              "      <td>0</td>\n",
              "      <td>0</td>\n",
              "    </tr>\n",
              "    <tr>\n",
              "      <th>2</th>\n",
              "      <td>Jakarta Pusat</td>\n",
              "      <td>JOHAR BARU</td>\n",
              "      <td>TANAH TINGGI</td>\n",
              "      <td>rw 05</td>\n",
              "      <td>1</td>\n",
              "      <td>1</td>\n",
              "      <td>0.0</td>\n",
              "      <td>0</td>\n",
              "      <td>30</td>\n",
              "      <td>23 februari</td>\n",
              "      <td>1</td>\n",
              "      <td>Ringan</td>\n",
              "      <td>0</td>\n",
              "      <td>0</td>\n",
              "      <td>0</td>\n",
              "      <td>0</td>\n",
              "    </tr>\n",
              "    <tr>\n",
              "      <th>3</th>\n",
              "      <td>Jakarta Pusat</td>\n",
              "      <td>KEMAYORAN</td>\n",
              "      <td>GUNUNG SAHARI SELATAN</td>\n",
              "      <td>rw 04, 09,</td>\n",
              "      <td>2</td>\n",
              "      <td>2</td>\n",
              "      <td>0.0</td>\n",
              "      <td>0</td>\n",
              "      <td>60</td>\n",
              "      <td>2, 8, 23 februari</td>\n",
              "      <td>3</td>\n",
              "      <td>Ringan</td>\n",
              "      <td>0</td>\n",
              "      <td>0</td>\n",
              "      <td>0</td>\n",
              "      <td>0</td>\n",
              "    </tr>\n",
              "    <tr>\n",
              "      <th>4</th>\n",
              "      <td>Jakarta Pusat</td>\n",
              "      <td>KEMAYORAN</td>\n",
              "      <td>SERDANG</td>\n",
              "      <td>rw 06, 01</td>\n",
              "      <td>2</td>\n",
              "      <td>2</td>\n",
              "      <td>0.0</td>\n",
              "      <td>0</td>\n",
              "      <td>30</td>\n",
              "      <td>23 februari</td>\n",
              "      <td>1</td>\n",
              "      <td>Ringan</td>\n",
              "      <td>0</td>\n",
              "      <td>0</td>\n",
              "      <td>0</td>\n",
              "      <td>0</td>\n",
              "    </tr>\n",
              "    <tr>\n",
              "      <th>5</th>\n",
              "      <td>Jakarta Pusat</td>\n",
              "      <td>KEMAYORAN</td>\n",
              "      <td>CEMPAKA BARU</td>\n",
              "      <td>rw 05, 07</td>\n",
              "      <td>2</td>\n",
              "      <td>7</td>\n",
              "      <td>0.0</td>\n",
              "      <td>0</td>\n",
              "      <td>35</td>\n",
              "      <td>23, 25  februari</td>\n",
              "      <td>2</td>\n",
              "      <td>Ringan</td>\n",
              "      <td>0</td>\n",
              "      <td>0</td>\n",
              "      <td>0</td>\n",
              "      <td>0</td>\n",
              "    </tr>\n",
              "    <tr>\n",
              "      <th>6</th>\n",
              "      <td>Jakarta Pusat</td>\n",
              "      <td>KEMAYORAN</td>\n",
              "      <td>KEMAYORAN</td>\n",
              "      <td>rw 08</td>\n",
              "      <td>1</td>\n",
              "      <td>1</td>\n",
              "      <td>0.0</td>\n",
              "      <td>0</td>\n",
              "      <td>20</td>\n",
              "      <td>23 februari</td>\n",
              "      <td>1</td>\n",
              "      <td>Ringan</td>\n",
              "      <td>0</td>\n",
              "      <td>0</td>\n",
              "      <td>0</td>\n",
              "      <td>0</td>\n",
              "    </tr>\n",
              "    <tr>\n",
              "      <th>7</th>\n",
              "      <td>Jakarta Pusat</td>\n",
              "      <td>KEMAYORAN</td>\n",
              "      <td>KEBON KOSONG</td>\n",
              "      <td>rw 01, 02, 03, 04, 05, 06, 07, 08, 09, 12</td>\n",
              "      <td>10</td>\n",
              "      <td>10</td>\n",
              "      <td>0.0</td>\n",
              "      <td>0</td>\n",
              "      <td>30</td>\n",
              "      <td>25 februari</td>\n",
              "      <td>1</td>\n",
              "      <td>Ringan</td>\n",
              "      <td>0</td>\n",
              "      <td>0</td>\n",
              "      <td>0</td>\n",
              "      <td>0</td>\n",
              "    </tr>\n",
              "    <tr>\n",
              "      <th>8</th>\n",
              "      <td>Jakarta Pusat</td>\n",
              "      <td>KEMAYORAN</td>\n",
              "      <td>SUMUR BATU</td>\n",
              "      <td>rw 07</td>\n",
              "      <td>1</td>\n",
              "      <td>1</td>\n",
              "      <td>0.0</td>\n",
              "      <td>0</td>\n",
              "      <td>30</td>\n",
              "      <td>25 februari</td>\n",
              "      <td>1</td>\n",
              "      <td>Ringan</td>\n",
              "      <td>0</td>\n",
              "      <td>0</td>\n",
              "      <td>0</td>\n",
              "      <td>0</td>\n",
              "    </tr>\n",
              "    <tr>\n",
              "      <th>9</th>\n",
              "      <td>Jakarta Pusat</td>\n",
              "      <td>SAWAH BESAR</td>\n",
              "      <td>PASAR BARU</td>\n",
              "      <td>rw 03,  04, 05, 06</td>\n",
              "      <td>4</td>\n",
              "      <td>6</td>\n",
              "      <td>0.0</td>\n",
              "      <td>0</td>\n",
              "      <td>25</td>\n",
              "      <td>8, 21, 22, 23 februari</td>\n",
              "      <td>4</td>\n",
              "      <td>Sedang</td>\n",
              "      <td>0</td>\n",
              "      <td>450</td>\n",
              "      <td>1</td>\n",
              "      <td>0</td>\n",
              "    </tr>\n",
              "    <tr>\n",
              "      <th>10</th>\n",
              "      <td>Jakarta Pusat</td>\n",
              "      <td>SAWAH BESAR</td>\n",
              "      <td>KARANG ANYAR</td>\n",
              "      <td>rw 06</td>\n",
              "      <td>1</td>\n",
              "      <td>1</td>\n",
              "      <td>0.0</td>\n",
              "      <td>0</td>\n",
              "      <td>20</td>\n",
              "      <td>23 februari</td>\n",
              "      <td>1</td>\n",
              "      <td>Ringan</td>\n",
              "      <td>0</td>\n",
              "      <td>0</td>\n",
              "      <td>0</td>\n",
              "      <td>0</td>\n",
              "    </tr>\n",
              "    <tr>\n",
              "      <th>11</th>\n",
              "      <td>Jakarta Pusat</td>\n",
              "      <td>SAWAH BESAR</td>\n",
              "      <td>MANGGA DUA SELATAN</td>\n",
              "      <td>rw 11</td>\n",
              "      <td>1</td>\n",
              "      <td>1</td>\n",
              "      <td>0.0</td>\n",
              "      <td>0</td>\n",
              "      <td>30</td>\n",
              "      <td>25 februari</td>\n",
              "      <td>1</td>\n",
              "      <td>Ringan</td>\n",
              "      <td>0</td>\n",
              "      <td>0</td>\n",
              "      <td>0</td>\n",
              "      <td>0</td>\n",
              "    </tr>\n",
              "    <tr>\n",
              "      <th>12</th>\n",
              "      <td>Jakarta Pusat</td>\n",
              "      <td>SAWAH BESAR</td>\n",
              "      <td>GUNUNG SAHARI UTARA</td>\n",
              "      <td>rw 03, 07</td>\n",
              "      <td>2</td>\n",
              "      <td>2</td>\n",
              "      <td>0.0</td>\n",
              "      <td>0</td>\n",
              "      <td>30</td>\n",
              "      <td>25 februari</td>\n",
              "      <td>1</td>\n",
              "      <td>Ringan</td>\n",
              "      <td>0</td>\n",
              "      <td>0</td>\n",
              "      <td>0</td>\n",
              "      <td>0</td>\n",
              "    </tr>\n",
              "    <tr>\n",
              "      <th>13</th>\n",
              "      <td>Jakarta Pusat</td>\n",
              "      <td>TANAH ABANG</td>\n",
              "      <td>BENDUNGAN HILIR</td>\n",
              "      <td>rw 01, 03, 04, 06, 07</td>\n",
              "      <td>5</td>\n",
              "      <td>12</td>\n",
              "      <td>0.0</td>\n",
              "      <td>0</td>\n",
              "      <td>35</td>\n",
              "      <td>8, 23, 25  februari</td>\n",
              "      <td>3</td>\n",
              "      <td>Ringan</td>\n",
              "      <td>0</td>\n",
              "      <td>0</td>\n",
              "      <td>0</td>\n",
              "      <td>0</td>\n",
              "    </tr>\n",
              "    <tr>\n",
              "      <th>14</th>\n",
              "      <td>Jakarta Pusat</td>\n",
              "      <td>TANAH ABANG</td>\n",
              "      <td>KARET TENGSIN</td>\n",
              "      <td>rw 07, 09,</td>\n",
              "      <td>2</td>\n",
              "      <td>2</td>\n",
              "      <td>0.0</td>\n",
              "      <td>0</td>\n",
              "      <td>60</td>\n",
              "      <td>22, 23, 25  februari</td>\n",
              "      <td>3</td>\n",
              "      <td>Ringan</td>\n",
              "      <td>0</td>\n",
              "      <td>475</td>\n",
              "      <td>2</td>\n",
              "      <td>0</td>\n",
              "    </tr>\n",
              "    <tr>\n",
              "      <th>15</th>\n",
              "      <td>Jakarta Pusat</td>\n",
              "      <td>TANAH ABANG</td>\n",
              "      <td>PETAMBURAN</td>\n",
              "      <td>rw 03, 09</td>\n",
              "      <td>2</td>\n",
              "      <td>10</td>\n",
              "      <td>0.0</td>\n",
              "      <td>0</td>\n",
              "      <td>65</td>\n",
              "      <td>22, 23, 25  februari</td>\n",
              "      <td>3</td>\n",
              "      <td>Ringan</td>\n",
              "      <td>2</td>\n",
              "      <td>1368</td>\n",
              "      <td>8</td>\n",
              "      <td>0</td>\n",
              "    </tr>\n",
              "    <tr>\n",
              "      <th>16</th>\n",
              "      <td>Jakarta Pusat</td>\n",
              "      <td>TANAH ABANG</td>\n",
              "      <td>KEBON MELATI</td>\n",
              "      <td>rw 07, 16</td>\n",
              "      <td>2</td>\n",
              "      <td>2</td>\n",
              "      <td>0.0</td>\n",
              "      <td>0</td>\n",
              "      <td>45</td>\n",
              "      <td>23, 25  februari</td>\n",
              "      <td>2</td>\n",
              "      <td>Ringan</td>\n",
              "      <td>0</td>\n",
              "      <td>0</td>\n",
              "      <td>0</td>\n",
              "      <td>0</td>\n",
              "    </tr>\n",
              "    <tr>\n",
              "      <th>17</th>\n",
              "      <td>Jakarta Pusat</td>\n",
              "      <td>SENEN</td>\n",
              "      <td>KRAMAT</td>\n",
              "      <td>rw 04, 06, 08</td>\n",
              "      <td>3</td>\n",
              "      <td>3</td>\n",
              "      <td>0.0</td>\n",
              "      <td>0</td>\n",
              "      <td>30</td>\n",
              "      <td>20, 23, 25  februari</td>\n",
              "      <td>3</td>\n",
              "      <td>Ringan</td>\n",
              "      <td>0</td>\n",
              "      <td>0</td>\n",
              "      <td>0</td>\n",
              "      <td>0</td>\n",
              "    </tr>\n",
              "    <tr>\n",
              "      <th>18</th>\n",
              "      <td>Jakarta Pusat</td>\n",
              "      <td>SENEN</td>\n",
              "      <td>KENARI</td>\n",
              "      <td>rw 05</td>\n",
              "      <td>1</td>\n",
              "      <td>1</td>\n",
              "      <td>0.0</td>\n",
              "      <td>0</td>\n",
              "      <td>20</td>\n",
              "      <td>23 februari</td>\n",
              "      <td>1</td>\n",
              "      <td>Ringan</td>\n",
              "      <td>0</td>\n",
              "      <td>0</td>\n",
              "      <td>0</td>\n",
              "      <td>0</td>\n",
              "    </tr>\n",
              "    <tr>\n",
              "      <th>19</th>\n",
              "      <td>Jakarta Pusat</td>\n",
              "      <td>MENTENG</td>\n",
              "      <td>KEBON SIRIH</td>\n",
              "      <td>rw 02, 04, 08</td>\n",
              "      <td>3</td>\n",
              "      <td>3</td>\n",
              "      <td>0.0</td>\n",
              "      <td>0</td>\n",
              "      <td>55</td>\n",
              "      <td>20, 23 februari</td>\n",
              "      <td>2</td>\n",
              "      <td>Ringan</td>\n",
              "      <td>0</td>\n",
              "      <td>50</td>\n",
              "      <td>1</td>\n",
              "      <td>0</td>\n",
              "    </tr>\n",
              "  </tbody>\n",
              "</table>\n",
              "</div>"
            ],
            "text/plain": [
              "   kota_administrasi  ... jumlah_tempat_pengungsian\n",
              "0      Jakarta Pusat  ...                         0\n",
              "1      Jakarta Pusat  ...                         0\n",
              "2      Jakarta Pusat  ...                         0\n",
              "3      Jakarta Pusat  ...                         0\n",
              "4      Jakarta Pusat  ...                         0\n",
              "5      Jakarta Pusat  ...                         0\n",
              "6      Jakarta Pusat  ...                         0\n",
              "7      Jakarta Pusat  ...                         0\n",
              "8      Jakarta Pusat  ...                         0\n",
              "9      Jakarta Pusat  ...                         0\n",
              "10     Jakarta Pusat  ...                         0\n",
              "11     Jakarta Pusat  ...                         0\n",
              "12     Jakarta Pusat  ...                         0\n",
              "13     Jakarta Pusat  ...                         0\n",
              "14     Jakarta Pusat  ...                         0\n",
              "15     Jakarta Pusat  ...                         0\n",
              "16     Jakarta Pusat  ...                         0\n",
              "17     Jakarta Pusat  ...                         0\n",
              "18     Jakarta Pusat  ...                         0\n",
              "19     Jakarta Pusat  ...                         0\n",
              "\n",
              "[20 rows x 16 columns]"
            ]
          },
          "metadata": {},
          "execution_count": 29
        }
      ]
    },
    {
      "cell_type": "markdown",
      "metadata": {
        "id": "YffhnNMjoRGA"
      },
      "source": [
        "#MODELLING\n",
        "\n",
        "\n",
        "Import library untuk kebutuhan model\n",
        "\n"
      ]
    },
    {
      "cell_type": "code",
      "metadata": {
        "id": "hlVXVAdHcTD9"
      },
      "source": [
        "#Metrics\n",
        "from sklearn.metrics import make_scorer, accuracy_score,precision_score\n",
        "from sklearn.metrics import classification_report\n",
        "\n",
        "# Import libarary confusion matrix\n",
        "from sklearn.metrics import confusion_matrix\n",
        "\n",
        "from sklearn.metrics import accuracy_score ,precision_score,recall_score,f1_score\n",
        "\n",
        "#Model Select\n",
        "from sklearn.model_selection import KFold,train_test_split,cross_val_score\n",
        "from sklearn.model_selection import train_test_split\n",
        "\n",
        "# Import libarary Logistic Regression\n",
        "from sklearn.linear_model import LogisticRegression\n",
        "\n",
        "from sklearn import linear_model\n",
        "from sklearn.linear_model import SGDClassifier\n",
        "\n",
        "# Import libarary KNN\n",
        "from sklearn.neighbors import KNeighborsClassifier, NeighborhoodComponentsAnalysis\n",
        "\n",
        "# Import libarary Support Vector Machines dan linier Support Vector Machines\n",
        "from sklearn import svm\n",
        "from sklearn.svm import LinearSVC\n",
        "\n",
        "# Import libarary Gaussian Naive Bayes\n",
        "from sklearn.naive_bayes import GaussianNB"
      ],
      "execution_count": null,
      "outputs": []
    },
    {
      "cell_type": "markdown",
      "metadata": {
        "id": "bczRIf0tohP5"
      },
      "source": [
        "##Splitting Dataset"
      ]
    },
    {
      "cell_type": "code",
      "metadata": {
        "id": "xUN6qd_fpDnp"
      },
      "source": [
        "X=df[['rata_rata_ketinggian_air', 'jumlah_terdampak_kk', 'frekuensi_kejadian']]\n",
        "y=df['KategoriBanjir']"
      ],
      "execution_count": null,
      "outputs": []
    },
    {
      "cell_type": "code",
      "metadata": {
        "id": "0wwynpxLod5o"
      },
      "source": [
        "#Train and Test split\n",
        "X_train,X_test,y_train,y_test=train_test_split(X,y,test_size=0.3,random_state=0)"
      ],
      "execution_count": null,
      "outputs": []
    },
    {
      "cell_type": "markdown",
      "metadata": {
        "id": "RBtutRlHowoZ"
      },
      "source": [
        "### 1. Logistic Regression:"
      ]
    },
    {
      "cell_type": "code",
      "metadata": {
        "colab": {
          "base_uri": "https://localhost:8080/"
        },
        "id": "aY40sxfVo2nQ",
        "outputId": "c100a6a0-4237-417f-bb76-03d144ce259c"
      },
      "source": [
        "logreg = LogisticRegression(solver= 'lbfgs',max_iter=400)\n",
        "logreg.fit(X_train.values, y_train.values)\n",
        "Y_pred = logreg.predict(X_test.values)\n",
        "accuracy_lr=round(accuracy_score(y_test,Y_pred)* 100, 2)\n",
        "acc_log = round(logreg.score(X_train, y_train) * 100, 2)\n",
        "\n",
        "\n",
        "cm = confusion_matrix(y_test, Y_pred)\n",
        "accuracy = accuracy_score(y_test,Y_pred)\n",
        "precision =precision_score(y_test, Y_pred,average='micro')\n",
        "recall =  recall_score(y_test, Y_pred,average='micro')\n",
        "f1 = f1_score(y_test,Y_pred,average='micro')\n",
        "print('Confusion matrix for Logistic Regression\\n',cm)\n",
        "print('accuracy_Logistic Regression : %.3f' %accuracy)\n",
        "print('precision_Logistic Regression : %.3f' %precision)\n",
        "print('recall_Logistic Regression: %.3f' %recall)\n",
        "print('f1-score_Logistic Regression : %.3f' %f1)"
      ],
      "execution_count": null,
      "outputs": [
        {
          "output_type": "stream",
          "name": "stdout",
          "text": [
            "Confusion matrix for Logistic Regression\n",
            " [[  3   0   0]\n",
            " [  0 308   0]\n",
            " [  0   0  16]]\n",
            "accuracy_Logistic Regression : 1.000\n",
            "precision_Logistic Regression : 1.000\n",
            "recall_Logistic Regression: 1.000\n",
            "f1-score_Logistic Regression : 1.000\n"
          ]
        },
        {
          "output_type": "stream",
          "name": "stderr",
          "text": [
            "/usr/local/lib/python3.7/dist-packages/sklearn/base.py:439: UserWarning: X has feature names, but LogisticRegression was fitted without feature names\n",
            "  f\"X has feature names, but {self.__class__.__name__} was fitted without\"\n"
          ]
        }
      ]
    },
    {
      "cell_type": "markdown",
      "metadata": {
        "id": "IWiY7xfBsE_S"
      },
      "source": [
        "### 2.KNN"
      ]
    },
    {
      "cell_type": "code",
      "metadata": {
        "colab": {
          "base_uri": "https://localhost:8080/"
        },
        "id": "9VFxI1-Go2tf",
        "outputId": "dce89a35-745d-4cf5-fdf5-3c0528fd2919"
      },
      "source": [
        "knn = KNeighborsClassifier(n_neighbors = 3)\n",
        "knn.fit(X_train.values, y_train.values)\n",
        "Y_pred = knn.predict(X_test.values) \n",
        "accuracy_knn=round(accuracy_score(y_test,Y_pred)* 100, 2)\n",
        "acc_knn = round(knn.score(X_train, y_train) * 100, 2)\n",
        "\n",
        "cm = confusion_matrix(y_test, Y_pred)\n",
        "accuracy = accuracy_score(y_test,Y_pred)\n",
        "precision =precision_score(y_test, Y_pred,average='micro')\n",
        "recall = recall_score(y_test, Y_pred,average='micro')\n",
        "f1 =f1_score(y_test,Y_pred,average='micro')\n",
        "print('Confusion matrix for KNN\\n',cm)\n",
        "print('accuracy_KNN : %.3f' %accuracy)\n",
        "print('precision_KNN : %.3f' %precision)\n",
        "print('recall_KNN: %.3f' %recall)\n",
        "print('f1-score_KNN : %.3f' %f1)"
      ],
      "execution_count": null,
      "outputs": [
        {
          "output_type": "stream",
          "name": "stdout",
          "text": [
            "Confusion matrix for KNN\n",
            " [[  0   0   3]\n",
            " [  1 306   1]\n",
            " [  1  12   3]]\n",
            "accuracy_KNN : 0.945\n",
            "precision_KNN : 0.945\n",
            "recall_KNN: 0.945\n",
            "f1-score_KNN : 0.945\n"
          ]
        },
        {
          "output_type": "stream",
          "name": "stderr",
          "text": [
            "/usr/local/lib/python3.7/dist-packages/sklearn/base.py:439: UserWarning: X has feature names, but KNeighborsClassifier was fitted without feature names\n",
            "  f\"X has feature names, but {self.__class__.__name__} was fitted without\"\n"
          ]
        }
      ]
    },
    {
      "cell_type": "markdown",
      "metadata": {
        "id": "p6SpnTQAsRtx"
      },
      "source": [
        "### 3.Gaussian Naive Bayes"
      ]
    },
    {
      "cell_type": "code",
      "metadata": {
        "colab": {
          "base_uri": "https://localhost:8080/"
        },
        "id": "TLQ_Fsgzo2yg",
        "outputId": "f06b6ff8-f1a7-4dcd-af36-3794dcf510fe"
      },
      "source": [
        "gaussian = GaussianNB()\n",
        "gaussian.fit(X_train.values, y_train.values)\n",
        "Y_pred = gaussian.predict(X_test.values) \n",
        "accuracy_nb=round(accuracy_score(y_test,Y_pred)* 100, 2)\n",
        "acc_gaussian = round(gaussian.score(X_train, y_train) * 100, 2)\n",
        "\n",
        "cm = confusion_matrix(y_test, Y_pred)\n",
        "accuracy = accuracy_score(y_test,Y_pred)\n",
        "precision =precision_score(y_test, Y_pred,average='micro')\n",
        "recall =  recall_score(y_test, Y_pred,average='micro')\n",
        "f1 =f1_score(y_test,Y_pred,average='micro')\n",
        "print('Confusion matrix for Naive Bayes\\n',cm)\n",
        "print('accuracy_Naive Bayes: %.3f' %accuracy)\n",
        "print('precision_Naive Bayes: %.3f' %precision)\n",
        "print('recall_Naive Bayes: %.3f' %recall)\n",
        "print('f1-score_Naive Bayes : %.3f' %f1)"
      ],
      "execution_count": null,
      "outputs": [
        {
          "output_type": "stream",
          "name": "stdout",
          "text": [
            "Confusion matrix for Naive Bayes\n",
            " [[  3   0   0]\n",
            " [  0 305   3]\n",
            " [  1   0  15]]\n",
            "accuracy_Naive Bayes: 0.988\n",
            "precision_Naive Bayes: 0.988\n",
            "recall_Naive Bayes: 0.988\n",
            "f1-score_Naive Bayes : 0.988\n"
          ]
        },
        {
          "output_type": "stream",
          "name": "stderr",
          "text": [
            "/usr/local/lib/python3.7/dist-packages/sklearn/base.py:439: UserWarning: X has feature names, but GaussianNB was fitted without feature names\n",
            "  f\"X has feature names, but {self.__class__.__name__} was fitted without\"\n"
          ]
        }
      ]
    },
    {
      "cell_type": "markdown",
      "metadata": {
        "id": "sVkArb45sT5S"
      },
      "source": [
        "### 4. Support Vector Machine"
      ]
    },
    {
      "cell_type": "code",
      "metadata": {
        "colab": {
          "base_uri": "https://localhost:8080/"
        },
        "id": "aGUu7BGrsTft",
        "outputId": "1965a8ac-3c4a-4253-d9a2-74d595a521d2"
      },
      "source": [
        "linear_svc = LinearSVC(max_iter=4000)\n",
        "linear_svc.fit(X_train.values, y_train.values)\n",
        "Y_pred = linear_svc.predict(X_test.values)\n",
        "accuracy_svc=round(accuracy_score(y_test,Y_pred)* 100, 2)\n",
        "acc_linear_svc = round(linear_svc.score(X_train, y_train) * 100, 2)\n",
        "\n",
        "cm = confusion_matrix(y_test, Y_pred)\n",
        "accuracy = accuracy_score(y_test,Y_pred)\n",
        "precision =precision_score(y_test, Y_pred,average='micro')\n",
        "recall =  recall_score(y_test, Y_pred,average='micro')\n",
        "f1 = f1_score(y_test,Y_pred,average='micro')\n",
        "print('Confusion matrix for SVC\\n',cm)\n",
        "print('accuracy_SVC: %.3f' %accuracy)\n",
        "print('precision_SVC: %.3f' %precision)\n",
        "print('recall_SVC: %.3f' %recall)\n",
        "print('f1-score_SVC : %.3f' %f1)"
      ],
      "execution_count": null,
      "outputs": [
        {
          "output_type": "stream",
          "name": "stderr",
          "text": [
            "/usr/local/lib/python3.7/dist-packages/sklearn/svm/_base.py:1208: ConvergenceWarning: Liblinear failed to converge, increase the number of iterations.\n",
            "  ConvergenceWarning,\n",
            "/usr/local/lib/python3.7/dist-packages/sklearn/base.py:439: UserWarning: X has feature names, but LinearSVC was fitted without feature names\n",
            "  f\"X has feature names, but {self.__class__.__name__} was fitted without\"\n"
          ]
        },
        {
          "output_type": "stream",
          "name": "stdout",
          "text": [
            "Confusion matrix for SVC\n",
            " [[  0   0   3]\n",
            " [  0 308   0]\n",
            " [  0   0  16]]\n",
            "accuracy_SVC: 0.991\n",
            "precision_SVC: 0.991\n",
            "recall_SVC: 0.991\n",
            "f1-score_SVC : 0.991\n"
          ]
        }
      ]
    },
    {
      "cell_type": "code",
      "metadata": {
        "colab": {
          "base_uri": "https://localhost:8080/"
        },
        "id": "03w640fYt2YM",
        "outputId": "362639bf-f0b5-49e4-e5c5-1cfdb246711d"
      },
      "source": [
        "print('Klasifikasi dengan KNN rata_rata_ketinggian_air, jumlah_terdampak_kk, frekuensi_kejadian :',knn.predict([[25,0,4]]))\n",
        "print('Klasifikasi dengan Gaussian Naive Baiyes rata_rata_ketinggian_air, jumlah_terdampak_kk, frekuensi_kejadian :',gaussian.predict([[25,0,4]]))\n",
        "print('Klasifikasi dengan SVM rata_rata_ketinggian_air, jumlah_terdampak_kk, frekuensi_kejadian :',linear_svc.predict([[25,0,4]]))"
      ],
      "execution_count": null,
      "outputs": [
        {
          "output_type": "stream",
          "name": "stdout",
          "text": [
            "Klasifikasi dengan KNN rata_rata_ketinggian_air, jumlah_terdampak_kk, frekuensi_kejadian : ['Sedang']\n",
            "Klasifikasi dengan Gaussian Naive Baiyes rata_rata_ketinggian_air, jumlah_terdampak_kk, frekuensi_kejadian : ['Sedang']\n",
            "Klasifikasi dengan SVM rata_rata_ketinggian_air, jumlah_terdampak_kk, frekuensi_kejadian : ['Sedang']\n"
          ]
        }
      ]
    },
    {
      "cell_type": "code",
      "source": [
        "import pickle\n",
        "pickle.dump(gaussian, open('model.pkl','wb'))\n",
        "\n",
        "model = pickle.load(open('model.pkl','rb'))\n",
        "print(model.predict([[4, 300, 500]]))"
      ],
      "metadata": {
        "colab": {
          "base_uri": "https://localhost:8080/"
        },
        "id": "ybAGHdG41tHL",
        "outputId": "24bf61a3-6c49-4e60-a05c-1f3023c17a5b"
      },
      "execution_count": null,
      "outputs": [
        {
          "output_type": "stream",
          "name": "stdout",
          "text": [
            "['Berat']\n"
          ]
        }
      ]
    },
    {
      "cell_type": "code",
      "source": [
        ""
      ],
      "metadata": {
        "id": "x-0ZtX543QTR"
      },
      "execution_count": null,
      "outputs": []
    }
  ]
}